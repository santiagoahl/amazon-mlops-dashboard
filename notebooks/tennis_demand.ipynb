{
 "cells": [
  {
   "cell_type": "code",
   "execution_count": 1,
   "metadata": {},
   "outputs": [],
   "source": [
    "import pandas as pd\n",
    "import os\n",
    "import json\n",
    "from datetime import datetime"
   ]
  },
  {
   "cell_type": "code",
   "execution_count": 2,
   "metadata": {},
   "outputs": [],
   "source": [
    "local_modules_path = '../src'\n",
    "os.sys.path.append(local_modules_path)"
   ]
  },
  {
   "cell_type": "code",
   "execution_count": 3,
   "metadata": {},
   "outputs": [],
   "source": [
    "from process import *"
   ]
  },
  {
   "cell_type": "markdown",
   "metadata": {},
   "source": [
    "This notebooks was created with the aim of visualizing Tennis demand and create a simple ML model"
   ]
  },
  {
   "cell_type": "markdown",
   "metadata": {},
   "source": [
    "First, how can we get this data? We are able to pull data from the Amazon's public API via rapidapi. So, we need to search in the product categories, where the Tennis is. It might be likely needed to pull both Women and Men Tenis. Let's take a look at the Women Tenis"
   ]
  },
  {
   "cell_type": "code",
   "execution_count": null,
   "metadata": {},
   "outputs": [],
   "source": [
    "amazon_api_client = api_fetcher.ApiClient()\n",
    "amazon_api_client.http_request(\n",
    "    method=\"GET\",\n",
    "    request_url=\"/products-by-category?category_id=2478868012&page=1&country=US&sort_by=RELEVANCE&product_condition=ALL&is_prime=false&deals_and_discounts=NONE\"\n",
    ")\n",
    "amazon_api_client.save_response(filename='product_list_us')"
   ]
  },
  {
   "cell_type": "code",
   "execution_count": 16,
   "metadata": {},
   "outputs": [],
   "source": [
    "with open('../data/api-calls/us_product_list.json', 'r') as file:\n",
    "    product_list_json = json.load(file)"
   ]
  },
  {
   "cell_type": "code",
   "execution_count": 17,
   "metadata": {},
   "outputs": [],
   "source": [
    "api_call_response = eval(product_list_json['response'])"
   ]
  },
  {
   "cell_type": "code",
   "execution_count": 18,
   "metadata": {},
   "outputs": [],
   "source": [
    "api_call_data = api_call_response['data']"
   ]
  },
  {
   "cell_type": "code",
   "execution_count": null,
   "metadata": {},
   "outputs": [],
   "source": [
    "pd.DataFrame(api_call_data).sort_values(by=\"name\")"
   ]
  },
  {
   "cell_type": "markdown",
   "metadata": {},
   "source": [
    "It seems we need to delve depet into to both `fashion-mens` and `fashion-womens`"
   ]
  },
  {
   "cell_type": "markdown",
   "metadata": {},
   "source": [
    "Let's try out with the path parameter `product-details`"
   ]
  },
  {
   "cell_type": "code",
   "execution_count": null,
   "metadata": {},
   "outputs": [],
   "source": [
    "amazon_api_client.http_request(\n",
    "    method=\"GET\",\n",
    "    request_url=\"/search?query=Tenis&country=US&sort_by=RELEVANCE&product_condition=ALL&page=100\"\n",
    ")"
   ]
  },
  {
   "cell_type": "code",
   "execution_count": null,
   "metadata": {},
   "outputs": [],
   "source": [
    "amazon_api_client.save_response(filename=\"tenis_products_all\")"
   ]
  },
  {
   "cell_type": "code",
   "execution_count": 21,
   "metadata": {},
   "outputs": [],
   "source": [
    "with open(\n",
    "    \"../data/api-calls/tenis_products_all.json\",\n",
    "    'r'\n",
    ") as file:\n",
    "    prod_details_json = json.load(file)"
   ]
  },
  {
   "cell_type": "code",
   "execution_count": null,
   "metadata": {},
   "outputs": [],
   "source": [
    "json.loads(prod_details_json['response'])['data']"
   ]
  },
  {
   "cell_type": "code",
   "execution_count": 5,
   "metadata": {},
   "outputs": [],
   "source": [
    "product_data = json.loads(prod_details_json['response'])['data']"
   ]
  },
  {
   "cell_type": "code",
   "execution_count": 8,
   "metadata": {},
   "outputs": [],
   "source": [
    "tenis_data = pd.DataFrame(product_data['products'])"
   ]
  },
  {
   "cell_type": "code",
   "execution_count": null,
   "metadata": {},
   "outputs": [],
   "source": [
    "tenis_data.shape"
   ]
  },
  {
   "cell_type": "code",
   "execution_count": null,
   "metadata": {},
   "outputs": [],
   "source": [
    "tenis_data.iloc[0]['sales_volume']"
   ]
  },
  {
   "cell_type": "code",
   "execution_count": null,
   "metadata": {},
   "outputs": [],
   "source": [
    "tenis_data['sales_volume'].unique()"
   ]
  },
  {
   "cell_type": "code",
   "execution_count": 19,
   "metadata": {},
   "outputs": [],
   "source": [
    "todays_datestr = datetime.today().strftime(format=\"%Y-%m-%d\")"
   ]
  },
  {
   "cell_type": "code",
   "execution_count": null,
   "metadata": {},
   "outputs": [],
   "source": [
    "tenis_data.sales_volume.unique()"
   ]
  },
  {
   "cell_type": "code",
   "execution_count": null,
   "metadata": {},
   "outputs": [],
   "source": [
    "tenis_data"
   ]
  },
  {
   "cell_type": "markdown",
   "metadata": {},
   "source": [
    "Once we got a data sample, it is natural to think \"what can we model?\". As first proposal, me might leverage the `sales_volume` field to forecast demand. As we have lower-bound estimates of the sold figures and this exercise is made exclusively for learning purposes, we could map these estimates into float numbers adding Gaussian Noise."
   ]
  },
  {
   "cell_type": "markdown",
   "metadata": {},
   "source": [
    "# Data Transformation and Cleaning"
   ]
  },
  {
   "cell_type": "code",
   "execution_count": 22,
   "metadata": {},
   "outputs": [],
   "source": [
    "import numpy as np"
   ]
  },
  {
   "cell_type": "code",
   "execution_count": null,
   "metadata": {},
   "outputs": [],
   "source": [
    "tenis_data[tenis_data['currency']!='USD']"
   ]
  },
  {
   "cell_type": "code",
   "execution_count": null,
   "metadata": {},
   "outputs": [],
   "source": [
    "tenis_data.head(20)"
   ]
  },
  {
   "cell_type": "code",
   "execution_count": 25,
   "metadata": {},
   "outputs": [],
   "source": [
    "import re"
   ]
  },
  {
   "cell_type": "code",
   "execution_count": 26,
   "metadata": {},
   "outputs": [],
   "source": [
    "filtered_columns = [\n",
    "    'product_price',\n",
    "    'product_original_price',\n",
    "    'product_star_rating',\n",
    "    'product_num_ratings',\n",
    "    'product_minimum_offer_price',\n",
    "    'is_prime',\n",
    "    'climate_pledge_friendly',\n",
    "    'has_variations',\n",
    "    'coupon_text',   \n",
    "    'sales_volume'\n",
    "]"
   ]
  },
  {
   "cell_type": "code",
   "execution_count": 27,
   "metadata": {},
   "outputs": [],
   "source": [
    "tenis_data_filtered = tenis_data[filtered_columns]"
   ]
  },
  {
   "cell_type": "markdown",
   "metadata": {},
   "source": [
    "We have filtered the columns we found useful to estimate `sales_volume`  such as\n",
    "\n",
    "- `product_price`\n",
    "- `product_star_ratings`\n",
    "- `product_num_ratings`"
   ]
  },
  {
   "cell_type": "markdown",
   "metadata": {},
   "source": [
    "now proceed to clean and transform columns "
   ]
  },
  {
   "cell_type": "code",
   "execution_count": 107,
   "metadata": {},
   "outputs": [],
   "source": [
    "tenis_data_processed = tenis_data_filtered.copy()"
   ]
  },
  {
   "cell_type": "code",
   "execution_count": null,
   "metadata": {},
   "outputs": [],
   "source": [
    "list(tenis_data_processed['sales_volume'].unique())"
   ]
  },
  {
   "cell_type": "code",
   "execution_count": null,
   "metadata": {},
   "outputs": [],
   "source": [
    "tenis_data_processed[tenis_data_processed['sales_volume']=='List: ']"
   ]
  },
  {
   "cell_type": "code",
   "execution_count": null,
   "metadata": {},
   "outputs": [],
   "source": [
    "tenis_data_processed.head(5)"
   ]
  },
  {
   "cell_type": "code",
   "execution_count": null,
   "metadata": {},
   "outputs": [],
   "source": [
    "tenis_data_processed.info()"
   ]
  },
  {
   "cell_type": "code",
   "execution_count": 112,
   "metadata": {},
   "outputs": [],
   "source": [
    "# Process price format\n",
    "\n",
    "\n",
    "tenis_data_processed[['product_price']] = tenis_data_processed[[\n",
    "    'product_price'\n",
    "    ]].map(lambda price_raw: float(price_raw[1:]) if price_raw != None else price_raw)\n",
    "\n",
    "tenis_data_processed[['product_original_price']] = tenis_data_processed[[\n",
    "    'product_original_price'\n",
    "    ]].map(lambda price_raw: float(price_raw[1:]) if price_raw != None else price_raw)\n",
    "\n",
    "tenis_data_processed[['product_minimum_offer_price']] = tenis_data_processed[[\n",
    "    'product_minimum_offer_price'\n",
    "    ]].map(lambda price_raw: float(price_raw[1:]) if price_raw != None else price_raw\n",
    ")"
   ]
  },
  {
   "cell_type": "code",
   "execution_count": 113,
   "metadata": {},
   "outputs": [],
   "source": [
    "# Convert to float\n",
    "\n",
    "tenis_data_processed['product_star_rating'] = tenis_data_processed['product_star_rating'].astype(float);"
   ]
  },
  {
   "cell_type": "code",
   "execution_count": 114,
   "metadata": {},
   "outputs": [],
   "source": [
    "tenis_data_processed[\"coupon_discount\"] = tenis_data_processed[\"coupon_text\"].map(\n",
    "    lambda coupon_txt: \n",
    "        re.search(pattern=\"\\d{1,2}(\\.+\\d{1,2})*\", string=coupon_txt).group()\n",
    "        if type(coupon_txt) != float\n",
    "        else '0.0'\n",
    ")\n",
    "\n",
    "# conver to float\n",
    "\n",
    "tenis_data_processed['coupon_discount'] = tenis_data_processed['coupon_discount'].map(\n",
    "    lambda discount_str: float(discount_str)\n",
    ") \n",
    "\n",
    "tenis_data_processed.drop(labels=[\"coupon_text\"], axis=1);"
   ]
  },
  {
   "cell_type": "code",
   "execution_count": 115,
   "metadata": {},
   "outputs": [],
   "source": [
    "# Process categorical data\n",
    "\n",
    "tenis_data_processed[\"is_prime\"] = pd.get_dummies(\n",
    "    tenis_data_processed[\"is_prime\"], \n",
    "    dtype=float\n",
    "    )[True]\n",
    "\n",
    "tenis_data_processed[\"climate_pledge_friendly\"] = pd.get_dummies(\n",
    "    tenis_data_processed[\"climate_pledge_friendly\"], \n",
    "    dtype=float\n",
    "    )[True]\n",
    "\n",
    "tenis_data_processed[\"has_variations\"] = pd.get_dummies(\n",
    "    tenis_data_processed[\"has_variations\"], \n",
    "    dtype=float\n",
    "    )[True]"
   ]
  },
  {
   "cell_type": "code",
   "execution_count": null,
   "metadata": {},
   "outputs": [],
   "source": [
    "tenis_data_processed.columns"
   ]
  },
  {
   "cell_type": "code",
   "execution_count": 117,
   "metadata": {},
   "outputs": [],
   "source": [
    "# Reorder columns to leave the predict variable at the end\n",
    "\n",
    "tenis_data_processed = tenis_data_processed[[\n",
    "    'product_price',\n",
    "    'product_original_price',\n",
    "    'product_star_rating',\n",
    "    'product_num_ratings',\n",
    "    'product_minimum_offer_price',\n",
    "    'is_prime',\n",
    "    'climate_pledge_friendly',\n",
    "    'has_variations',\n",
    "    'coupon_discount',   \n",
    "    'sales_volume'\n",
    "]]"
   ]
  },
  {
   "cell_type": "code",
   "execution_count": null,
   "metadata": {},
   "outputs": [],
   "source": []
  },
  {
   "cell_type": "markdown",
   "metadata": {},
   "source": [
    "### Add Gaussian Noise"
   ]
  },
  {
   "cell_type": "code",
   "execution_count": null,
   "metadata": {},
   "outputs": [],
   "source": [
    "tenis_data_processed.head(5)"
   ]
  },
  {
   "cell_type": "code",
   "execution_count": null,
   "metadata": {},
   "outputs": [],
   "source": [
    "tenis_data_processed.sales_volume.unique()"
   ]
  },
  {
   "cell_type": "code",
   "execution_count": 120,
   "metadata": {},
   "outputs": [],
   "source": [
    "from scipy.stats import norm"
   ]
  },
  {
   "cell_type": "code",
   "execution_count": null,
   "metadata": {},
   "outputs": [],
   "source": [
    "tenis_data_processed.head(5)"
   ]
  },
  {
   "cell_type": "code",
   "execution_count": null,
   "metadata": {},
   "outputs": [],
   "source": [
    "tenis_data_processed.head(5)"
   ]
  },
  {
   "cell_type": "code",
   "execution_count": 176,
   "metadata": {},
   "outputs": [],
   "source": [
    "from process import gaussian_noise"
   ]
  },
  {
   "cell_type": "code",
   "execution_count": 182,
   "metadata": {},
   "outputs": [],
   "source": [
    "tenis_data_processed_test = gaussian_noise(\n",
    "    df=tenis_data_processed.copy().copy(),\n",
    "    target_column=\"sales_volume\"\n",
    ")"
   ]
  },
  {
   "cell_type": "code",
   "execution_count": null,
   "metadata": {},
   "outputs": [],
   "source": [
    "tenis_data_processed_test"
   ]
  },
  {
   "cell_type": "code",
   "execution_count": null,
   "metadata": {},
   "outputs": [],
   "source": [
    "todays_datestr"
   ]
  },
  {
   "cell_type": "code",
   "execution_count": null,
   "metadata": {},
   "outputs": [],
   "source": [
    "tenis_data_processed_test.to_csv(f\"../data/processed/tennis_{todays_datestr}.csv\", index=False)"
   ]
  },
  {
   "cell_type": "code",
   "execution_count": null,
   "metadata": {},
   "outputs": [],
   "source": []
  },
  {
   "cell_type": "code",
   "execution_count": null,
   "metadata": {},
   "outputs": [],
   "source": []
  },
  {
   "cell_type": "code",
   "execution_count": null,
   "metadata": {},
   "outputs": [],
   "source": []
  },
  {
   "cell_type": "code",
   "execution_count": null,
   "metadata": {},
   "outputs": [],
   "source": []
  },
  {
   "cell_type": "code",
   "execution_count": null,
   "metadata": {},
   "outputs": [],
   "source": []
  },
  {
   "cell_type": "code",
   "execution_count": null,
   "metadata": {},
   "outputs": [],
   "source": []
  },
  {
   "cell_type": "code",
   "execution_count": null,
   "metadata": {},
   "outputs": [],
   "source": []
  },
  {
   "cell_type": "code",
   "execution_count": null,
   "metadata": {},
   "outputs": [],
   "source": []
  },
  {
   "cell_type": "code",
   "execution_count": null,
   "metadata": {},
   "outputs": [],
   "source": []
  },
  {
   "cell_type": "code",
   "execution_count": null,
   "metadata": {},
   "outputs": [],
   "source": []
  },
  {
   "cell_type": "code",
   "execution_count": 119,
   "metadata": {},
   "outputs": [],
   "source": [
    "tenis_data.to_csv('../data/raw/tenis_products_all_' + todays_datestr + '.csv')"
   ]
  },
  {
   "cell_type": "code",
   "execution_count": null,
   "metadata": {},
   "outputs": [],
   "source": [
    "product_data"
   ]
  },
  {
   "cell_type": "code",
   "execution_count": 100,
   "metadata": {},
   "outputs": [],
   "source": [
    "raw_tenis_data = str(product_data)"
   ]
  },
  {
   "cell_type": "code",
   "execution_count": 101,
   "metadata": {},
   "outputs": [],
   "source": [
    "import re"
   ]
  },
  {
   "cell_type": "code",
   "execution_count": 102,
   "metadata": {},
   "outputs": [],
   "source": [
    "regexp_search = re.search(pattern=\"Under\", string=raw_tenis_data)"
   ]
  },
  {
   "cell_type": "code",
   "execution_count": null,
   "metadata": {},
   "outputs": [],
   "source": [
    "regexp_search"
   ]
  },
  {
   "cell_type": "code",
   "execution_count": 104,
   "metadata": {},
   "outputs": [],
   "source": [
    "prod_details_df = pd.DataFrame(\n",
    "    data=product_data\n",
    ")"
   ]
  },
  {
   "cell_type": "code",
   "execution_count": null,
   "metadata": {},
   "outputs": [],
   "source": [
    "prod_details_df"
   ]
  },
  {
   "cell_type": "code",
   "execution_count": null,
   "metadata": {},
   "outputs": [],
   "source": [
    "import http.client\n",
    "\n",
    "conn = http.client.HTTPSConnection(\"real-time-amazon-data.p.rapidapi.com\")\n",
    "\n",
    "headers = {\n",
    "    'x-rapidapi-key': \"dfa8842b83msha2bc48dbc5792bdp1cbbd0jsn0bde68569041\",\n",
    "    'x-rapidapi-host': \"real-time-amazon-data.p.rapidapi.com\"\n",
    "}\n",
    "\n",
    "conn.request(\"GET\", \"/product-details?asin=B07ZPKBL9V&country=US\", headers=headers)\n",
    "\n",
    "res = conn.getresponse()\n",
    "data = res.read()\n",
    "\n",
    "print(data.decode(\"utf-8\"))"
   ]
  },
  {
   "cell_type": "code",
   "execution_count": 109,
   "metadata": {},
   "outputs": [],
   "source": [
    "a = json.loads(data.decode(\"utf-8\"))"
   ]
  },
  {
   "cell_type": "code",
   "execution_count": null,
   "metadata": {},
   "outputs": [],
   "source": [
    "a"
   ]
  },
  {
   "cell_type": "code",
   "execution_count": null,
   "metadata": {},
   "outputs": [],
   "source": []
  },
  {
   "cell_type": "code",
   "execution_count": null,
   "metadata": {},
   "outputs": [],
   "source": []
  },
  {
   "cell_type": "code",
   "execution_count": null,
   "metadata": {},
   "outputs": [],
   "source": []
  },
  {
   "cell_type": "code",
   "execution_count": null,
   "metadata": {},
   "outputs": [],
   "source": []
  },
  {
   "cell_type": "markdown",
   "metadata": {},
   "source": [
    "#### Pull multiple pages and consolidate into a single df"
   ]
  },
  {
   "cell_type": "code",
   "execution_count": 46,
   "metadata": {},
   "outputs": [],
   "source": [
    "for page_num in range(50):\n",
    "    amazon_api_client.http_request(\n",
    "        method=\"GET\",\n",
    "        request_url=\"/search?query=Tenis&country=US&sort_by=RELEVANCE&product_condition=ALL&page=\" + str(page_num)\n",
    "    )\n",
    "    amazon_api_client.save_response(\"tenis_products_\" + str(page_num))"
   ]
  },
  {
   "cell_type": "code",
   "execution_count": 40,
   "metadata": {},
   "outputs": [],
   "source": [
    "with open('../data/api-calls/tenis_products_0.json', 'r') as f:\n",
    "    d = json.load(f)"
   ]
  },
  {
   "cell_type": "code",
   "execution_count": 13,
   "metadata": {},
   "outputs": [],
   "source": [
    "with open(\"../data/api-calls/tenis_products_\" + str(8) + \".json\", \"r\") as f:\n",
    "    a = json.load(f)"
   ]
  },
  {
   "cell_type": "code",
   "execution_count": null,
   "metadata": {},
   "outputs": [],
   "source": [
    "json.loads(a[\"response\"])['data']['products']"
   ]
  },
  {
   "cell_type": "code",
   "execution_count": null,
   "metadata": {},
   "outputs": [],
   "source": [
    "[str(i) for i in range(1)]"
   ]
  },
  {
   "cell_type": "code",
   "execution_count": 4,
   "metadata": {},
   "outputs": [
    {
     "data": {
      "text/html": [
       "<pre style=\"white-space:pre;overflow-x:auto;line-height:normal;font-family:Menlo,'DejaVu Sans Mono',consolas,'Courier New',monospace\">00:21:49.507 | <span style=\"color: #008080; text-decoration-color: #008080\">INFO</span>    | prefect - Starting server on <span style=\"color: #0000ff; text-decoration-color: #0000ff\">http://127.0.0.1:8952</span>\n",
       "</pre>\n"
      ],
      "text/plain": [
       "00:21:49.507 | \u001b[36mINFO\u001b[0m    | prefect - Starting server on \u001b[94mhttp://127.0.0.1:8952\u001b[0m\n"
      ]
     },
     "metadata": {},
     "output_type": "display_data"
    },
    {
     "data": {
      "text/html": [
       "<pre style=\"white-space:pre;overflow-x:auto;line-height:normal;font-family:Menlo,'DejaVu Sans Mono',consolas,'Courier New',monospace\">00:21:55.215 | <span style=\"color: #008080; text-decoration-color: #008080\">INFO</span>    | Task run 'extract_json_df' - Created task run 'extract_json_df' for task 'extract_json_df'\n",
       "</pre>\n"
      ],
      "text/plain": [
       "00:21:55.215 | \u001b[36mINFO\u001b[0m    | Task run 'extract_json_df' - Created task run 'extract_json_df' for task 'extract_json_df'\n"
      ]
     },
     "metadata": {},
     "output_type": "display_data"
    },
    {
     "data": {
      "text/html": [
       "<pre style=\"white-space:pre;overflow-x:auto;line-height:normal;font-family:Menlo,'DejaVu Sans Mono',consolas,'Courier New',monospace\">00:21:55.261 | <span style=\"color: #008080; text-decoration-color: #008080\">INFO</span>    | Task run 'extract_json_df' - Finished in state <span style=\"color: #008000; text-decoration-color: #008000\">Completed</span>()\n",
       "</pre>\n"
      ],
      "text/plain": [
       "00:21:55.261 | \u001b[36mINFO\u001b[0m    | Task run 'extract_json_df' - Finished in state \u001b[32mCompleted\u001b[0m()\n"
      ]
     },
     "metadata": {},
     "output_type": "display_data"
    }
   ],
   "source": [
    "merged_df = extract_json_df([\n",
    "    \"../data/api-calls/tenis_products_\" + str(i) + \".json\" \n",
    "    for i in range(1, 8)\n",
    "])"
   ]
  },
  {
   "cell_type": "code",
   "execution_count": 10,
   "metadata": {},
   "outputs": [
    {
     "data": {
      "text/html": [
       "<div>\n",
       "<style scoped>\n",
       "    .dataframe tbody tr th:only-of-type {\n",
       "        vertical-align: middle;\n",
       "    }\n",
       "\n",
       "    .dataframe tbody tr th {\n",
       "        vertical-align: top;\n",
       "    }\n",
       "\n",
       "    .dataframe thead th {\n",
       "        text-align: right;\n",
       "    }\n",
       "</style>\n",
       "<table border=\"1\" class=\"dataframe\">\n",
       "  <thead>\n",
       "    <tr style=\"text-align: right;\">\n",
       "      <th></th>\n",
       "      <th>product_price</th>\n",
       "      <th>product_original_price</th>\n",
       "      <th>product_star_rating</th>\n",
       "      <th>product_num_ratings</th>\n",
       "      <th>product_minimum_offer_price</th>\n",
       "      <th>is_prime</th>\n",
       "      <th>climate_pledge_friendly</th>\n",
       "      <th>has_variations</th>\n",
       "      <th>coupon_discount</th>\n",
       "      <th>sales_volume</th>\n",
       "    </tr>\n",
       "  </thead>\n",
       "  <tbody>\n",
       "    <tr>\n",
       "      <th>0</th>\n",
       "      <td>44.52</td>\n",
       "      <td>80.0</td>\n",
       "      <td>4.6</td>\n",
       "      <td>709</td>\n",
       "      <td>44.52</td>\n",
       "      <td>1.0</td>\n",
       "      <td>0.0</td>\n",
       "      <td>1.0</td>\n",
       "      <td>0.0</td>\n",
       "      <td>400+ bought in past month</td>\n",
       "    </tr>\n",
       "    <tr>\n",
       "      <th>1</th>\n",
       "      <td>42.50</td>\n",
       "      <td>75.0</td>\n",
       "      <td>4.7</td>\n",
       "      <td>2028</td>\n",
       "      <td>42.50</td>\n",
       "      <td>1.0</td>\n",
       "      <td>0.0</td>\n",
       "      <td>1.0</td>\n",
       "      <td>0.0</td>\n",
       "      <td>50+ bought in past month</td>\n",
       "    </tr>\n",
       "    <tr>\n",
       "      <th>2</th>\n",
       "      <td>38.50</td>\n",
       "      <td>70.0</td>\n",
       "      <td>4.5</td>\n",
       "      <td>502</td>\n",
       "      <td>38.50</td>\n",
       "      <td>1.0</td>\n",
       "      <td>0.0</td>\n",
       "      <td>1.0</td>\n",
       "      <td>0.0</td>\n",
       "      <td>100+ bought in past month</td>\n",
       "    </tr>\n",
       "    <tr>\n",
       "      <th>3</th>\n",
       "      <td>30.69</td>\n",
       "      <td>50.0</td>\n",
       "      <td>4.5</td>\n",
       "      <td>40996</td>\n",
       "      <td>30.69</td>\n",
       "      <td>1.0</td>\n",
       "      <td>0.0</td>\n",
       "      <td>1.0</td>\n",
       "      <td>0.0</td>\n",
       "      <td>50+ bought in past month</td>\n",
       "    </tr>\n",
       "    <tr>\n",
       "      <th>4</th>\n",
       "      <td>60.00</td>\n",
       "      <td>80.0</td>\n",
       "      <td>4.6</td>\n",
       "      <td>397</td>\n",
       "      <td>60.00</td>\n",
       "      <td>1.0</td>\n",
       "      <td>0.0</td>\n",
       "      <td>1.0</td>\n",
       "      <td>0.0</td>\n",
       "      <td>100+ bought in past month</td>\n",
       "    </tr>\n",
       "  </tbody>\n",
       "</table>\n",
       "</div>"
      ],
      "text/plain": [
       "   product_price  product_original_price  product_star_rating  \\\n",
       "0          44.52                    80.0                  4.6   \n",
       "1          42.50                    75.0                  4.7   \n",
       "2          38.50                    70.0                  4.5   \n",
       "3          30.69                    50.0                  4.5   \n",
       "4          60.00                    80.0                  4.6   \n",
       "\n",
       "   product_num_ratings  product_minimum_offer_price  is_prime  \\\n",
       "0                  709                        44.52       1.0   \n",
       "1                 2028                        42.50       1.0   \n",
       "2                  502                        38.50       1.0   \n",
       "3                40996                        30.69       1.0   \n",
       "4                  397                        60.00       1.0   \n",
       "\n",
       "   climate_pledge_friendly  has_variations  coupon_discount  \\\n",
       "0                      0.0             1.0              0.0   \n",
       "1                      0.0             1.0              0.0   \n",
       "2                      0.0             1.0              0.0   \n",
       "3                      0.0             1.0              0.0   \n",
       "4                      0.0             1.0              0.0   \n",
       "\n",
       "                sales_volume  \n",
       "0  400+ bought in past month  \n",
       "1   50+ bought in past month  \n",
       "2  100+ bought in past month  \n",
       "3   50+ bought in past month  \n",
       "4  100+ bought in past month  "
      ]
     },
     "execution_count": 10,
     "metadata": {},
     "output_type": "execute_result"
    }
   ],
   "source": [
    "merged_df.head()"
   ]
  },
  {
   "cell_type": "code",
   "execution_count": 6,
   "metadata": {},
   "outputs": [
    {
     "data": {
      "text/html": [
       "<pre style=\"white-space:pre;overflow-x:auto;line-height:normal;font-family:Menlo,'DejaVu Sans Mono',consolas,'Courier New',monospace\">00:22:00.723 | <span style=\"color: #008080; text-decoration-color: #008080\">INFO</span>    | Task run 'clean_data' - Created task run 'clean_data' for task 'clean_data'\n",
       "</pre>\n"
      ],
      "text/plain": [
       "00:22:00.723 | \u001b[36mINFO\u001b[0m    | Task run 'clean_data' - Created task run 'clean_data' for task 'clean_data'\n"
      ]
     },
     "metadata": {},
     "output_type": "display_data"
    },
    {
     "data": {
      "text/html": [
       "<pre style=\"white-space:pre;overflow-x:auto;line-height:normal;font-family:Menlo,'DejaVu Sans Mono',consolas,'Courier New',monospace\">00:22:00.753 | <span style=\"color: #008080; text-decoration-color: #008080\">INFO</span>    | Task run 'clean_data' - Finished in state <span style=\"color: #008000; text-decoration-color: #008000\">Completed</span>()\n",
       "</pre>\n"
      ],
      "text/plain": [
       "00:22:00.753 | \u001b[36mINFO\u001b[0m    | Task run 'clean_data' - Finished in state \u001b[32mCompleted\u001b[0m()\n"
      ]
     },
     "metadata": {},
     "output_type": "display_data"
    }
   ],
   "source": [
    "merged_df = clean_data(df=merged_df.copy())"
   ]
  },
  {
   "cell_type": "code",
   "execution_count": 7,
   "metadata": {},
   "outputs": [],
   "source": [
    "del gaussian_noise"
   ]
  },
  {
   "cell_type": "code",
   "execution_count": 8,
   "metadata": {},
   "outputs": [],
   "source": [
    "from process import gaussian_noise"
   ]
  },
  {
   "cell_type": "code",
   "execution_count": null,
   "metadata": {},
   "outputs": [],
   "source": [
    "help(gaussian_noise)"
   ]
  },
  {
   "cell_type": "code",
   "execution_count": null,
   "metadata": {},
   "outputs": [],
   "source": [
    "merged_df."
   ]
  },
  {
   "cell_type": "code",
   "execution_count": 9,
   "metadata": {},
   "outputs": [
    {
     "name": "stdout",
     "output_type": "stream",
     "text": [
      "['400+ bought in past month' '50+ bought in past month'\n",
      " '100+ bought in past month' 'List: ' '200+ bought in past month' None\n",
      " '300+ bought in past month' 'List Price: ' '900+ bought in past month'\n",
      " '800+ bought in past month' '500+ bought in past month'\n",
      " 'No featured offers available' '700+ bought in past month'\n",
      " '1K+ bought in past month' 'Typical: ' 'Typical price: '\n",
      " 'Shop products from small business brands sold in Amazon’s store. Discover more about the small businesses partnering with Amazon and Amazon’s commitment to empowering them.'\n",
      " 'Typical price ']\n"
     ]
    }
   ],
   "source": [
    "print(merged_df.sales_volume.unique())"
   ]
  },
  {
   "cell_type": "code",
   "execution_count": 12,
   "metadata": {},
   "outputs": [
    {
     "data": {
      "text/html": [
       "<pre style=\"white-space:pre;overflow-x:auto;line-height:normal;font-family:Menlo,'DejaVu Sans Mono',consolas,'Courier New',monospace\">00:27:07.684 | <span style=\"color: #008080; text-decoration-color: #008080\">INFO</span>    | Task run 'gaussian_noise' - Created task run 'gaussian_noise' for task 'gaussian_noise'\n",
       "</pre>\n"
      ],
      "text/plain": [
       "00:27:07.684 | \u001b[36mINFO\u001b[0m    | Task run 'gaussian_noise' - Created task run 'gaussian_noise' for task 'gaussian_noise'\n"
      ]
     },
     "metadata": {},
     "output_type": "display_data"
    },
    {
     "name": "stderr",
     "output_type": "stream",
     "text": [
      "/home/santi/current-projects/public-apis/amazon-mlops-dashboard/notebooks/../src/process.py:217: FutureWarning: Downcasting behavior in `replace` is deprecated and will be removed in a future version. To retain the old behavior, explicitly call `result.infer_objects(copy=False)`. To opt-in to the future behavior, set `pd.set_option('future.no_silent_downcasting', True)`\n",
      "  df[[target_column_numerical]] = df[[target_column_cleaned]].replace(target_column_vals)\n"
     ]
    },
    {
     "data": {
      "text/html": [
       "<pre style=\"white-space:pre;overflow-x:auto;line-height:normal;font-family:Menlo,'DejaVu Sans Mono',consolas,'Courier New',monospace\">00:28:02.669 | <span style=\"color: #d70000; text-decoration-color: #d70000\">ERROR</span>   | Task run 'gaussian_noise' - Task run failed with exception: ParameterBindError(\"Error binding parameters for function 'gaussian_noise': missing a required argument: 'target_column'.\\nFunction 'gaussian_noise' has signature 'df: pandas.core.frame.DataFrame, target_column: str) -&gt; pandas.core.frame.DataFrame' but received args: (    product_price  product_original_price  product_star_rating  \\\\\\n0           44.52                   80.00                  4.6   \\n1           42.50                   75.00                  4.7   \\n2           38.50                   70.00                  4.5   \\n3           30.69                   50.00                  4.5   \\n4           60.00                   80.00                  4.6   \\n..            ...                     ...                  ...   \\n13          42.95                   65.00                  4.6   \\n14          21.59                   26.99                  4.2   \\n15          42.99                   69.95                  4.4   \\n16          46.99                     NaN                  4.1   \\n17          49.00                   75.00                  4.4   \\n\\n    product_num_ratings  product_minimum_offer_price  is_prime  \\\\\\n0                   709                        44.52       1.0   \\n1                  2028                        42.50       1.0   \\n2                   502                        38.50       1.0   \\n3                 40996                        30.69       1.0   \\n4                   397                        60.00       1.0   \\n..                  ...                          ...       ...   \\n13                   38                        42.95       1.0   \\n14                  151                        21.59       1.0   \\n15                 8518                        42.99       1.0   \\n16                  768                        46.99       1.0   \\n17                 4750                        49.00       1.0   \\n\\n    climate_pledge_friendly  has_variations  coupon_discount  \\\\\\n0                       0.0             1.0              0.0   \\n1                       0.0             1.0              0.0   \\n2                       0.0             1.0              0.0   \\n3                       0.0             1.0              0.0   \\n4                       0.0             1.0              0.0   \\n..                      ...             ...              ...   \\n13                      0.0             1.0              0.0   \\n14                      0.0             1.0              0.0   \\n15                      0.0             1.0              0.0   \\n16                      0.0             1.0              0.0   \\n17                      0.0             1.0              0.0   \\n\\n                 sales_volume       sales_volume_cleaned  \\\\\\n0   400+ bought in past month  400+ bought in past month   \\n1    50+ bought in past month   50+ bought in past month   \\n2   100+ bought in past month  100+ bought in past month   \\n3    50+ bought in past month   50+ bought in past month   \\n4   100+ bought in past month  100+ bought in past month   \\n..                        ...                        ...   \\n13                     List:                           0   \\n14            Typical price:                           0   \\n15  100+ bought in past month  100+ bought in past month   \\n16                       None                          0   \\n17                     List:                           0   \\n\\n    sales_volume_numerical  \\n0                      400  \\n1                       50  \\n2                      100  \\n3                       50  \\n4                      100  \\n..                     ...  \\n13                       0  \\n14                       0  \\n15                     100  \\n16                       0  \\n17                       0  \\n\\n[310 rows x 12 columns],) and kwargs: [].\") - Retries are exhausted\n",
       "Traceback (most recent call last):\n",
       "  File \"/home/santi/current-projects/public-apis/amazon-mlops-dashboard/venv/lib/python3.11/site-packages/prefect/utilities/callables.py\", line 63, in get_call_parameters\n",
       "    bound_signature = inspect.signature(fn).bind(*call_args, **call_kwargs)\n",
       "                      ^^^^^^^^^^^^^^^^^^^^^^^^^^^^^^^^^^^^^^^^^^^^^^^^^^^^^\n",
       "  File \"/home/santi/anaconda3/lib/python3.11/inspect.py\", line 3212, in bind\n",
       "    return self._bind(args, kwargs)\n",
       "           ^^^^^^^^^^^^^^^^^^^^^^^^\n",
       "  File \"/home/santi/anaconda3/lib/python3.11/inspect.py\", line 3127, in _bind\n",
       "    raise TypeError(msg) from None\n",
       "TypeError: missing a required argument: 'target_column'\n",
       "\n",
       "During handling of the above exception, another exception occurred:\n",
       "\n",
       "Traceback (most recent call last):\n",
       "  File \"/home/santi/current-projects/public-apis/amazon-mlops-dashboard/venv/lib/python3.11/site-packages/prefect/task_engine.py\", line 763, in run_context\n",
       "    yield self\n",
       "  File \"/home/santi/current-projects/public-apis/amazon-mlops-dashboard/venv/lib/python3.11/site-packages/prefect/task_engine.py\", line 1323, in run_task_sync\n",
       "    engine.call_task_fn(txn)\n",
       "  File \"/home/santi/current-projects/public-apis/amazon-mlops-dashboard/venv/lib/python3.11/site-packages/prefect/task_engine.py\", line 786, in call_task_fn\n",
       "    result = call_with_parameters(self.task.fn, parameters)\n",
       "             ^^^^^^^^^^^^^^^^^^^^^^^^^^^^^^^^^^^^^^^^^^^^^^\n",
       "  File \"/home/santi/current-projects/public-apis/amazon-mlops-dashboard/venv/lib/python3.11/site-packages/prefect/utilities/callables.py\", line 206, in call_with_parameters\n",
       "    return fn(*args, **kwargs)\n",
       "           ^^^^^^^^^^^^^^^^^^^\n",
       "  File \"/home/santi/current-projects/public-apis/amazon-mlops-dashboard/notebooks/../src/process.py\", line 220, in gaussian_noise\n",
       "    df[gaussian_noise] = df[target_column_cleaned].apply(gaussian_noise_map)\n",
       "    ~~^^^^^^^^^^^^^^^^\n",
       "  File \"/home/santi/current-projects/public-apis/amazon-mlops-dashboard/venv/lib/python3.11/site-packages/pandas/core/frame.py\", line 4289, in __setitem__\n",
       "    key = com.apply_if_callable(key, self)\n",
       "          ^^^^^^^^^^^^^^^^^^^^^^^^^^^^^^^^\n",
       "  File \"/home/santi/current-projects/public-apis/amazon-mlops-dashboard/venv/lib/python3.11/site-packages/pandas/core/common.py\", line 384, in apply_if_callable\n",
       "    return maybe_callable(obj, **kwargs)\n",
       "           ^^^^^^^^^^^^^^^^^^^^^^^^^^^^^\n",
       "  File \"/home/santi/current-projects/public-apis/amazon-mlops-dashboard/venv/lib/python3.11/site-packages/prefect/tasks.py\", line 985, in __call__\n",
       "    parameters = get_call_parameters(self.fn, args, kwargs)\n",
       "                 ^^^^^^^^^^^^^^^^^^^^^^^^^^^^^^^^^^^^^^^^^^\n",
       "  File \"/home/santi/current-projects/public-apis/amazon-mlops-dashboard/venv/lib/python3.11/site-packages/prefect/utilities/callables.py\", line 65, in get_call_parameters\n",
       "    raise ParameterBindError.from_bind_failure(fn, exc, call_args, call_kwargs)\n",
       "prefect.exceptions.ParameterBindError: Error binding parameters for function 'gaussian_noise': missing a required argument: 'target_column'.\n",
       "Function 'gaussian_noise' has signature 'df: pandas.core.frame.DataFrame, target_column: str) -&gt; pandas.core.frame.DataFrame' but received args: (    product_price  product_original_price  product_star_rating  \\\n",
       "0           44.52                   80.00                  4.6   \n",
       "1           42.50                   75.00                  4.7   \n",
       "2           38.50                   70.00                  4.5   \n",
       "3           30.69                   50.00                  4.5   \n",
       "4           60.00                   80.00                  4.6   \n",
       "..            ...                     ...                  ...   \n",
       "13          42.95                   65.00                  4.6   \n",
       "14          21.59                   26.99                  4.2   \n",
       "15          42.99                   69.95                  4.4   \n",
       "16          46.99                     NaN                  4.1   \n",
       "17          49.00                   75.00                  4.4   \n",
       "\n",
       "    product_num_ratings  product_minimum_offer_price  is_prime  \\\n",
       "0                   709                        44.52       1.0   \n",
       "1                  2028                        42.50       1.0   \n",
       "2                   502                        38.50       1.0   \n",
       "3                 40996                        30.69       1.0   \n",
       "4                   397                        60.00       1.0   \n",
       "..                  ...                          ...       ...   \n",
       "13                   38                        42.95       1.0   \n",
       "14                  151                        21.59       1.0   \n",
       "15                 8518                        42.99       1.0   \n",
       "16                  768                        46.99       1.0   \n",
       "17                 4750                        49.00       1.0   \n",
       "\n",
       "    climate_pledge_friendly  has_variations  coupon_discount  \\\n",
       "0                       0.0             1.0              0.0   \n",
       "1                       0.0             1.0              0.0   \n",
       "2                       0.0             1.0              0.0   \n",
       "3                       0.0             1.0              0.0   \n",
       "4                       0.0             1.0              0.0   \n",
       "..                      ...             ...              ...   \n",
       "13                      0.0             1.0              0.0   \n",
       "14                      0.0             1.0              0.0   \n",
       "15                      0.0             1.0              0.0   \n",
       "16                      0.0             1.0              0.0   \n",
       "17                      0.0             1.0              0.0   \n",
       "\n",
       "                 sales_volume       sales_volume_cleaned  \\\n",
       "0   400+ bought in past month  400+ bought in past month   \n",
       "1    50+ bought in past month   50+ bought in past month   \n",
       "2   100+ bought in past month  100+ bought in past month   \n",
       "3    50+ bought in past month   50+ bought in past month   \n",
       "4   100+ bought in past month  100+ bought in past month   \n",
       "..                        ...                        ...   \n",
       "13                     List:                           0   \n",
       "14            Typical price:                           0   \n",
       "15  100+ bought in past month  100+ bought in past month   \n",
       "16                       None                          0   \n",
       "17                     List:                           0   \n",
       "\n",
       "    sales_volume_numerical  \n",
       "0                      400  \n",
       "1                       50  \n",
       "2                      100  \n",
       "3                       50  \n",
       "4                      100  \n",
       "..                     ...  \n",
       "13                       0  \n",
       "14                       0  \n",
       "15                     100  \n",
       "16                       0  \n",
       "17                       0  \n",
       "\n",
       "[310 rows x 12 columns],) and kwargs: [].\n",
       "</pre>\n"
      ],
      "text/plain": [
       "00:28:02.669 | \u001b[38;5;160mERROR\u001b[0m   | Task run 'gaussian_noise' - Task run failed with exception: ParameterBindError(\"Error binding parameters for function 'gaussian_noise': missing a required argument: 'target_column'.\\nFunction 'gaussian_noise' has signature 'df: pandas.core.frame.DataFrame, target_column: str) -> pandas.core.frame.DataFrame' but received args: (    product_price  product_original_price  product_star_rating  \\\\\\n0           44.52                   80.00                  4.6   \\n1           42.50                   75.00                  4.7   \\n2           38.50                   70.00                  4.5   \\n3           30.69                   50.00                  4.5   \\n4           60.00                   80.00                  4.6   \\n..            ...                     ...                  ...   \\n13          42.95                   65.00                  4.6   \\n14          21.59                   26.99                  4.2   \\n15          42.99                   69.95                  4.4   \\n16          46.99                     NaN                  4.1   \\n17          49.00                   75.00                  4.4   \\n\\n    product_num_ratings  product_minimum_offer_price  is_prime  \\\\\\n0                   709                        44.52       1.0   \\n1                  2028                        42.50       1.0   \\n2                   502                        38.50       1.0   \\n3                 40996                        30.69       1.0   \\n4                   397                        60.00       1.0   \\n..                  ...                          ...       ...   \\n13                   38                        42.95       1.0   \\n14                  151                        21.59       1.0   \\n15                 8518                        42.99       1.0   \\n16                  768                        46.99       1.0   \\n17                 4750                        49.00       1.0   \\n\\n    climate_pledge_friendly  has_variations  coupon_discount  \\\\\\n0                       0.0             1.0              0.0   \\n1                       0.0             1.0              0.0   \\n2                       0.0             1.0              0.0   \\n3                       0.0             1.0              0.0   \\n4                       0.0             1.0              0.0   \\n..                      ...             ...              ...   \\n13                      0.0             1.0              0.0   \\n14                      0.0             1.0              0.0   \\n15                      0.0             1.0              0.0   \\n16                      0.0             1.0              0.0   \\n17                      0.0             1.0              0.0   \\n\\n                 sales_volume       sales_volume_cleaned  \\\\\\n0   400+ bought in past month  400+ bought in past month   \\n1    50+ bought in past month   50+ bought in past month   \\n2   100+ bought in past month  100+ bought in past month   \\n3    50+ bought in past month   50+ bought in past month   \\n4   100+ bought in past month  100+ bought in past month   \\n..                        ...                        ...   \\n13                     List:                           0   \\n14            Typical price:                           0   \\n15  100+ bought in past month  100+ bought in past month   \\n16                       None                          0   \\n17                     List:                           0   \\n\\n    sales_volume_numerical  \\n0                      400  \\n1                       50  \\n2                      100  \\n3                       50  \\n4                      100  \\n..                     ...  \\n13                       0  \\n14                       0  \\n15                     100  \\n16                       0  \\n17                       0  \\n\\n[310 rows x 12 columns],) and kwargs: [].\") - Retries are exhausted\n",
       "Traceback (most recent call last):\n",
       "  File \"/home/santi/current-projects/public-apis/amazon-mlops-dashboard/venv/lib/python3.11/site-packages/prefect/utilities/callables.py\", line 63, in get_call_parameters\n",
       "    bound_signature = inspect.signature(fn).bind(*call_args, **call_kwargs)\n",
       "                      ^^^^^^^^^^^^^^^^^^^^^^^^^^^^^^^^^^^^^^^^^^^^^^^^^^^^^\n",
       "  File \"/home/santi/anaconda3/lib/python3.11/inspect.py\", line 3212, in bind\n",
       "    return self._bind(args, kwargs)\n",
       "           ^^^^^^^^^^^^^^^^^^^^^^^^\n",
       "  File \"/home/santi/anaconda3/lib/python3.11/inspect.py\", line 3127, in _bind\n",
       "    raise TypeError(msg) from None\n",
       "TypeError: missing a required argument: 'target_column'\n",
       "\n",
       "During handling of the above exception, another exception occurred:\n",
       "\n",
       "Traceback (most recent call last):\n",
       "  File \"/home/santi/current-projects/public-apis/amazon-mlops-dashboard/venv/lib/python3.11/site-packages/prefect/task_engine.py\", line 763, in run_context\n",
       "    yield self\n",
       "  File \"/home/santi/current-projects/public-apis/amazon-mlops-dashboard/venv/lib/python3.11/site-packages/prefect/task_engine.py\", line 1323, in run_task_sync\n",
       "    engine.call_task_fn(txn)\n",
       "  File \"/home/santi/current-projects/public-apis/amazon-mlops-dashboard/venv/lib/python3.11/site-packages/prefect/task_engine.py\", line 786, in call_task_fn\n",
       "    result = call_with_parameters(self.task.fn, parameters)\n",
       "             ^^^^^^^^^^^^^^^^^^^^^^^^^^^^^^^^^^^^^^^^^^^^^^\n",
       "  File \"/home/santi/current-projects/public-apis/amazon-mlops-dashboard/venv/lib/python3.11/site-packages/prefect/utilities/callables.py\", line 206, in call_with_parameters\n",
       "    return fn(*args, **kwargs)\n",
       "           ^^^^^^^^^^^^^^^^^^^\n",
       "  File \"/home/santi/current-projects/public-apis/amazon-mlops-dashboard/notebooks/../src/process.py\", line 220, in gaussian_noise\n",
       "    df[gaussian_noise] = df[target_column_cleaned].apply(gaussian_noise_map)\n",
       "    ~~^^^^^^^^^^^^^^^^\n",
       "  File \"/home/santi/current-projects/public-apis/amazon-mlops-dashboard/venv/lib/python3.11/site-packages/pandas/core/frame.py\", line 4289, in __setitem__\n",
       "    key = com.apply_if_callable(key, self)\n",
       "          ^^^^^^^^^^^^^^^^^^^^^^^^^^^^^^^^\n",
       "  File \"/home/santi/current-projects/public-apis/amazon-mlops-dashboard/venv/lib/python3.11/site-packages/pandas/core/common.py\", line 384, in apply_if_callable\n",
       "    return maybe_callable(obj, **kwargs)\n",
       "           ^^^^^^^^^^^^^^^^^^^^^^^^^^^^^\n",
       "  File \"/home/santi/current-projects/public-apis/amazon-mlops-dashboard/venv/lib/python3.11/site-packages/prefect/tasks.py\", line 985, in __call__\n",
       "    parameters = get_call_parameters(self.fn, args, kwargs)\n",
       "                 ^^^^^^^^^^^^^^^^^^^^^^^^^^^^^^^^^^^^^^^^^^\n",
       "  File \"/home/santi/current-projects/public-apis/amazon-mlops-dashboard/venv/lib/python3.11/site-packages/prefect/utilities/callables.py\", line 65, in get_call_parameters\n",
       "    raise ParameterBindError.from_bind_failure(fn, exc, call_args, call_kwargs)\n",
       "prefect.exceptions.ParameterBindError: Error binding parameters for function 'gaussian_noise': missing a required argument: 'target_column'.\n",
       "Function 'gaussian_noise' has signature 'df: pandas.core.frame.DataFrame, target_column: str) -> pandas.core.frame.DataFrame' but received args: (    product_price  product_original_price  product_star_rating  \\\n",
       "0           44.52                   80.00                  4.6   \n",
       "1           42.50                   75.00                  4.7   \n",
       "2           38.50                   70.00                  4.5   \n",
       "3           30.69                   50.00                  4.5   \n",
       "4           60.00                   80.00                  4.6   \n",
       "..            ...                     ...                  ...   \n",
       "13          42.95                   65.00                  4.6   \n",
       "14          21.59                   26.99                  4.2   \n",
       "15          42.99                   69.95                  4.4   \n",
       "16          46.99                     NaN                  4.1   \n",
       "17          49.00                   75.00                  4.4   \n",
       "\n",
       "    product_num_ratings  product_minimum_offer_price  is_prime  \\\n",
       "0                   709                        44.52       1.0   \n",
       "1                  2028                        42.50       1.0   \n",
       "2                   502                        38.50       1.0   \n",
       "3                 40996                        30.69       1.0   \n",
       "4                   397                        60.00       1.0   \n",
       "..                  ...                          ...       ...   \n",
       "13                   38                        42.95       1.0   \n",
       "14                  151                        21.59       1.0   \n",
       "15                 8518                        42.99       1.0   \n",
       "16                  768                        46.99       1.0   \n",
       "17                 4750                        49.00       1.0   \n",
       "\n",
       "    climate_pledge_friendly  has_variations  coupon_discount  \\\n",
       "0                       0.0             1.0              0.0   \n",
       "1                       0.0             1.0              0.0   \n",
       "2                       0.0             1.0              0.0   \n",
       "3                       0.0             1.0              0.0   \n",
       "4                       0.0             1.0              0.0   \n",
       "..                      ...             ...              ...   \n",
       "13                      0.0             1.0              0.0   \n",
       "14                      0.0             1.0              0.0   \n",
       "15                      0.0             1.0              0.0   \n",
       "16                      0.0             1.0              0.0   \n",
       "17                      0.0             1.0              0.0   \n",
       "\n",
       "                 sales_volume       sales_volume_cleaned  \\\n",
       "0   400+ bought in past month  400+ bought in past month   \n",
       "1    50+ bought in past month   50+ bought in past month   \n",
       "2   100+ bought in past month  100+ bought in past month   \n",
       "3    50+ bought in past month   50+ bought in past month   \n",
       "4   100+ bought in past month  100+ bought in past month   \n",
       "..                        ...                        ...   \n",
       "13                     List:                           0   \n",
       "14            Typical price:                           0   \n",
       "15  100+ bought in past month  100+ bought in past month   \n",
       "16                       None                          0   \n",
       "17                     List:                           0   \n",
       "\n",
       "    sales_volume_numerical  \n",
       "0                      400  \n",
       "1                       50  \n",
       "2                      100  \n",
       "3                       50  \n",
       "4                      100  \n",
       "..                     ...  \n",
       "13                       0  \n",
       "14                       0  \n",
       "15                     100  \n",
       "16                       0  \n",
       "17                       0  \n",
       "\n",
       "[310 rows x 12 columns],) and kwargs: [].\n"
      ]
     },
     "metadata": {},
     "output_type": "display_data"
    },
    {
     "data": {
      "text/html": [
       "<pre style=\"white-space:pre;overflow-x:auto;line-height:normal;font-family:Menlo,'DejaVu Sans Mono',consolas,'Courier New',monospace\">00:28:02.751 | <span style=\"color: #d70000; text-decoration-color: #d70000\">ERROR</span>   | Task run 'gaussian_noise' - Finished in state <span style=\"color: #d70000; text-decoration-color: #d70000\">Failed</span>(\"Task run encountered an exception ParameterBindError: Error binding parameters for function 'gaussian_noise': missing a required argument: 'target_column'.\\nFunction 'gaussian_noise' has signature 'df: pandas.core.frame.DataFrame, target_column: str) -&gt; pandas.core.frame.DataFrame' but received args: (    product_price  product_original_price  product_star_rating  \\\\\\n0           44.52                   80.00                  4.6   \\n1           42.50                   75.00                  4.7   \\n2           38.50                   70.00                  4.5   \\n3           30.69                   50.00                  4.5   \\n4           60.00                   80.00                  4.6   \\n..            ...                     ...                  ...   \\n13          42.95                   65.00                  4.6   \\n14          21.59                   26.99                  4.2   \\n15          42.99                   69.95                  4.4   \\n16          46.99                     NaN                  4.1   \\n17          49.00                   75.00                  4.4   \\n\\n    product_num_ratings  product_minimum_offer_price  is_prime  \\\\\\n0                   709                        44.52       1.0   \\n1                  2028                        42.50       1.0   \\n2                   502                        38.50       1.0   \\n3                 40996                        30.69       1.0   \\n4                   397                        60.00       1.0   \\n..                  ...                          ...       ...   \\n13                   38                        42.95       1.0   \\n14                  151                        21.59       1.0   \\n15                 8518                        42.99       1.0   \\n16                  768                        46.99       1.0   \\n17                 4750                        49.00       1.0   \\n\\n    climate_pledge_friendly  has_variations  coupon_discount  \\\\\\n0                       0.0             1.0              0.0   \\n1                       0.0             1.0              0.0   \\n2                       0.0             1.0              0.0   \\n3                       0.0             1.0              0.0   \\n4                       0.0             1.0              0.0   \\n..                      ...             ...              ...   \\n13                      0.0             1.0              0.0   \\n14                      0.0             1.0              0.0   \\n15                      0.0             1.0              0.0   \\n16                      0.0             1.0              0.0   \\n17                      0.0             1.0              0.0   \\n\\n                 sales_volume       sales_volume_cleaned  \\\\\\n0   400+ bought in past month  400+ bought in past month   \\n1    50+ bought in past month   50+ bought in past month   \\n2   100+ bought in past month  100+ bought in past month   \\n3    50+ bought in past month   50+ bought in past month   \\n4   100+ bought in past month  100+ bought in past month   \\n..                        ...                        ...   \\n13                     List:                           0   \\n14            Typical price:                           0   \\n15  100+ bought in past month  100+ bought in past month   \\n16                       None                          0   \\n17                     List:                           0   \\n\\n    sales_volume_numerical  \\n0                      400  \\n1                       50  \\n2                      100  \\n3                       50  \\n4                      100  \\n..                     ...  \\n13                       0  \\n14                       0  \\n15                     100  \\n16                       0  \\n17                       0  \\n\\n[310 rows x 12 columns],) and kwargs: [].\")\n",
       "</pre>\n"
      ],
      "text/plain": [
       "00:28:02.751 | \u001b[38;5;160mERROR\u001b[0m   | Task run 'gaussian_noise' - Finished in state \u001b[38;5;160mFailed\u001b[0m(\"Task run encountered an exception ParameterBindError: Error binding parameters for function 'gaussian_noise': missing a required argument: 'target_column'.\\nFunction 'gaussian_noise' has signature 'df: pandas.core.frame.DataFrame, target_column: str) -> pandas.core.frame.DataFrame' but received args: (    product_price  product_original_price  product_star_rating  \\\\\\n0           44.52                   80.00                  4.6   \\n1           42.50                   75.00                  4.7   \\n2           38.50                   70.00                  4.5   \\n3           30.69                   50.00                  4.5   \\n4           60.00                   80.00                  4.6   \\n..            ...                     ...                  ...   \\n13          42.95                   65.00                  4.6   \\n14          21.59                   26.99                  4.2   \\n15          42.99                   69.95                  4.4   \\n16          46.99                     NaN                  4.1   \\n17          49.00                   75.00                  4.4   \\n\\n    product_num_ratings  product_minimum_offer_price  is_prime  \\\\\\n0                   709                        44.52       1.0   \\n1                  2028                        42.50       1.0   \\n2                   502                        38.50       1.0   \\n3                 40996                        30.69       1.0   \\n4                   397                        60.00       1.0   \\n..                  ...                          ...       ...   \\n13                   38                        42.95       1.0   \\n14                  151                        21.59       1.0   \\n15                 8518                        42.99       1.0   \\n16                  768                        46.99       1.0   \\n17                 4750                        49.00       1.0   \\n\\n    climate_pledge_friendly  has_variations  coupon_discount  \\\\\\n0                       0.0             1.0              0.0   \\n1                       0.0             1.0              0.0   \\n2                       0.0             1.0              0.0   \\n3                       0.0             1.0              0.0   \\n4                       0.0             1.0              0.0   \\n..                      ...             ...              ...   \\n13                      0.0             1.0              0.0   \\n14                      0.0             1.0              0.0   \\n15                      0.0             1.0              0.0   \\n16                      0.0             1.0              0.0   \\n17                      0.0             1.0              0.0   \\n\\n                 sales_volume       sales_volume_cleaned  \\\\\\n0   400+ bought in past month  400+ bought in past month   \\n1    50+ bought in past month   50+ bought in past month   \\n2   100+ bought in past month  100+ bought in past month   \\n3    50+ bought in past month   50+ bought in past month   \\n4   100+ bought in past month  100+ bought in past month   \\n..                        ...                        ...   \\n13                     List:                           0   \\n14            Typical price:                           0   \\n15  100+ bought in past month  100+ bought in past month   \\n16                       None                          0   \\n17                     List:                           0   \\n\\n    sales_volume_numerical  \\n0                      400  \\n1                       50  \\n2                      100  \\n3                       50  \\n4                      100  \\n..                     ...  \\n13                       0  \\n14                       0  \\n15                     100  \\n16                       0  \\n17                       0  \\n\\n[310 rows x 12 columns],) and kwargs: [].\")\n"
      ]
     },
     "metadata": {},
     "output_type": "display_data"
    },
    {
     "ename": "ParameterBindError",
     "evalue": "Error binding parameters for function 'gaussian_noise': missing a required argument: 'target_column'.\nFunction 'gaussian_noise' has signature 'df: pandas.core.frame.DataFrame, target_column: str) -> pandas.core.frame.DataFrame' but received args: (    product_price  product_original_price  product_star_rating  \\\n0           44.52                   80.00                  4.6   \n1           42.50                   75.00                  4.7   \n2           38.50                   70.00                  4.5   \n3           30.69                   50.00                  4.5   \n4           60.00                   80.00                  4.6   \n..            ...                     ...                  ...   \n13          42.95                   65.00                  4.6   \n14          21.59                   26.99                  4.2   \n15          42.99                   69.95                  4.4   \n16          46.99                     NaN                  4.1   \n17          49.00                   75.00                  4.4   \n\n    product_num_ratings  product_minimum_offer_price  is_prime  \\\n0                   709                        44.52       1.0   \n1                  2028                        42.50       1.0   \n2                   502                        38.50       1.0   \n3                 40996                        30.69       1.0   \n4                   397                        60.00       1.0   \n..                  ...                          ...       ...   \n13                   38                        42.95       1.0   \n14                  151                        21.59       1.0   \n15                 8518                        42.99       1.0   \n16                  768                        46.99       1.0   \n17                 4750                        49.00       1.0   \n\n    climate_pledge_friendly  has_variations  coupon_discount  \\\n0                       0.0             1.0              0.0   \n1                       0.0             1.0              0.0   \n2                       0.0             1.0              0.0   \n3                       0.0             1.0              0.0   \n4                       0.0             1.0              0.0   \n..                      ...             ...              ...   \n13                      0.0             1.0              0.0   \n14                      0.0             1.0              0.0   \n15                      0.0             1.0              0.0   \n16                      0.0             1.0              0.0   \n17                      0.0             1.0              0.0   \n\n                 sales_volume       sales_volume_cleaned  \\\n0   400+ bought in past month  400+ bought in past month   \n1    50+ bought in past month   50+ bought in past month   \n2   100+ bought in past month  100+ bought in past month   \n3    50+ bought in past month   50+ bought in past month   \n4   100+ bought in past month  100+ bought in past month   \n..                        ...                        ...   \n13                     List:                           0   \n14            Typical price:                           0   \n15  100+ bought in past month  100+ bought in past month   \n16                       None                          0   \n17                     List:                           0   \n\n    sales_volume_numerical  \n0                      400  \n1                       50  \n2                      100  \n3                       50  \n4                      100  \n..                     ...  \n13                       0  \n14                       0  \n15                     100  \n16                       0  \n17                       0  \n\n[310 rows x 12 columns],) and kwargs: [].",
     "output_type": "error",
     "traceback": [
      "\u001b[0;31m---------------------------------------------------------------------------\u001b[0m",
      "\u001b[0;31mTypeError\u001b[0m                                 Traceback (most recent call last)",
      "File \u001b[0;32m~/current-projects/public-apis/amazon-mlops-dashboard/venv/lib/python3.11/site-packages/prefect/utilities/callables.py:63\u001b[0m, in \u001b[0;36mget_call_parameters\u001b[0;34m(fn, call_args, call_kwargs, apply_defaults)\u001b[0m\n\u001b[1;32m     62\u001b[0m \u001b[38;5;28;01mtry\u001b[39;00m:\n\u001b[0;32m---> 63\u001b[0m     bound_signature \u001b[38;5;241m=\u001b[39m \u001b[43minspect\u001b[49m\u001b[38;5;241;43m.\u001b[39;49m\u001b[43msignature\u001b[49m\u001b[43m(\u001b[49m\u001b[43mfn\u001b[49m\u001b[43m)\u001b[49m\u001b[38;5;241;43m.\u001b[39;49m\u001b[43mbind\u001b[49m\u001b[43m(\u001b[49m\u001b[38;5;241;43m*\u001b[39;49m\u001b[43mcall_args\u001b[49m\u001b[43m,\u001b[49m\u001b[43m \u001b[49m\u001b[38;5;241;43m*\u001b[39;49m\u001b[38;5;241;43m*\u001b[39;49m\u001b[43mcall_kwargs\u001b[49m\u001b[43m)\u001b[49m\n\u001b[1;32m     64\u001b[0m \u001b[38;5;28;01mexcept\u001b[39;00m \u001b[38;5;167;01mTypeError\u001b[39;00m \u001b[38;5;28;01mas\u001b[39;00m exc:\n",
      "File \u001b[0;32m~/anaconda3/lib/python3.11/inspect.py:3212\u001b[0m, in \u001b[0;36mSignature.bind\u001b[0;34m(self, *args, **kwargs)\u001b[0m\n\u001b[1;32m   3208\u001b[0m \u001b[38;5;250m\u001b[39m\u001b[38;5;124;03m\"\"\"Get a BoundArguments object, that maps the passed `args`\u001b[39;00m\n\u001b[1;32m   3209\u001b[0m \u001b[38;5;124;03mand `kwargs` to the function's signature.  Raises `TypeError`\u001b[39;00m\n\u001b[1;32m   3210\u001b[0m \u001b[38;5;124;03mif the passed arguments can not be bound.\u001b[39;00m\n\u001b[1;32m   3211\u001b[0m \u001b[38;5;124;03m\"\"\"\u001b[39;00m\n\u001b[0;32m-> 3212\u001b[0m \u001b[38;5;28;01mreturn\u001b[39;00m \u001b[38;5;28;43mself\u001b[39;49m\u001b[38;5;241;43m.\u001b[39;49m\u001b[43m_bind\u001b[49m\u001b[43m(\u001b[49m\u001b[43margs\u001b[49m\u001b[43m,\u001b[49m\u001b[43m \u001b[49m\u001b[43mkwargs\u001b[49m\u001b[43m)\u001b[49m\n",
      "File \u001b[0;32m~/anaconda3/lib/python3.11/inspect.py:3127\u001b[0m, in \u001b[0;36mSignature._bind\u001b[0;34m(self, args, kwargs, partial)\u001b[0m\n\u001b[1;32m   3126\u001b[0m                 msg \u001b[38;5;241m=\u001b[39m msg\u001b[38;5;241m.\u001b[39mformat(arg\u001b[38;5;241m=\u001b[39mparam\u001b[38;5;241m.\u001b[39mname)\n\u001b[0;32m-> 3127\u001b[0m                 \u001b[38;5;28;01mraise\u001b[39;00m \u001b[38;5;167;01mTypeError\u001b[39;00m(msg) \u001b[38;5;28;01mfrom\u001b[39;00m \u001b[38;5;28;01mNone\u001b[39;00m\n\u001b[1;32m   3128\u001b[0m \u001b[38;5;28;01melse\u001b[39;00m:\n\u001b[1;32m   3129\u001b[0m     \u001b[38;5;66;03m# We have a positional argument to process\u001b[39;00m\n",
      "\u001b[0;31mTypeError\u001b[0m: missing a required argument: 'target_column'",
      "\nDuring handling of the above exception, another exception occurred:\n",
      "\u001b[0;31mParameterBindError\u001b[0m                        Traceback (most recent call last)",
      "Cell \u001b[0;32mIn[12], line 1\u001b[0m\n\u001b[0;32m----> 1\u001b[0m merged_df \u001b[38;5;241m=\u001b[39m \u001b[43mgaussian_noise\u001b[49m\u001b[43m(\u001b[49m\u001b[43mdf\u001b[49m\u001b[38;5;241;43m=\u001b[39;49m\u001b[43mmerged_df\u001b[49m\u001b[38;5;241;43m.\u001b[39;49m\u001b[43mcopy\u001b[49m\u001b[43m(\u001b[49m\u001b[43m)\u001b[49m\u001b[43m,\u001b[49m\u001b[43m \u001b[49m\u001b[43mtarget_column\u001b[49m\u001b[38;5;241;43m=\u001b[39;49m\u001b[38;5;124;43m\"\u001b[39;49m\u001b[38;5;124;43msales_volume\u001b[39;49m\u001b[38;5;124;43m\"\u001b[39;49m\u001b[43m)\u001b[49m\n",
      "File \u001b[0;32m~/current-projects/public-apis/amazon-mlops-dashboard/venv/lib/python3.11/site-packages/prefect/tasks.py:997\u001b[0m, in \u001b[0;36mTask.__call__\u001b[0;34m(self, return_state, wait_for, *args, **kwargs)\u001b[0m\n\u001b[1;32m    991\u001b[0m     \u001b[38;5;28;01mreturn\u001b[39;00m track_viz_task(\n\u001b[1;32m    992\u001b[0m         \u001b[38;5;28mself\u001b[39m\u001b[38;5;241m.\u001b[39misasync, \u001b[38;5;28mself\u001b[39m\u001b[38;5;241m.\u001b[39mname, parameters, \u001b[38;5;28mself\u001b[39m\u001b[38;5;241m.\u001b[39mviz_return_value\n\u001b[1;32m    993\u001b[0m     )\n\u001b[1;32m    995\u001b[0m \u001b[38;5;28;01mfrom\u001b[39;00m \u001b[38;5;21;01mprefect\u001b[39;00m\u001b[38;5;21;01m.\u001b[39;00m\u001b[38;5;21;01mtask_engine\u001b[39;00m \u001b[38;5;28;01mimport\u001b[39;00m run_task\n\u001b[0;32m--> 997\u001b[0m \u001b[38;5;28;01mreturn\u001b[39;00m \u001b[43mrun_task\u001b[49m\u001b[43m(\u001b[49m\n\u001b[1;32m    998\u001b[0m \u001b[43m    \u001b[49m\u001b[43mtask\u001b[49m\u001b[38;5;241;43m=\u001b[39;49m\u001b[38;5;28;43mself\u001b[39;49m\u001b[43m,\u001b[49m\n\u001b[1;32m    999\u001b[0m \u001b[43m    \u001b[49m\u001b[43mparameters\u001b[49m\u001b[38;5;241;43m=\u001b[39;49m\u001b[43mparameters\u001b[49m\u001b[43m,\u001b[49m\n\u001b[1;32m   1000\u001b[0m \u001b[43m    \u001b[49m\u001b[43mwait_for\u001b[49m\u001b[38;5;241;43m=\u001b[39;49m\u001b[43mwait_for\u001b[49m\u001b[43m,\u001b[49m\n\u001b[1;32m   1001\u001b[0m \u001b[43m    \u001b[49m\u001b[43mreturn_type\u001b[49m\u001b[38;5;241;43m=\u001b[39;49m\u001b[43mreturn_type\u001b[49m\u001b[43m,\u001b[49m\n\u001b[1;32m   1002\u001b[0m \u001b[43m\u001b[49m\u001b[43m)\u001b[49m\n",
      "File \u001b[0;32m~/current-projects/public-apis/amazon-mlops-dashboard/venv/lib/python3.11/site-packages/prefect/task_engine.py:1512\u001b[0m, in \u001b[0;36mrun_task\u001b[0;34m(task, task_run_id, task_run, parameters, wait_for, return_type, dependencies, context)\u001b[0m\n\u001b[1;32m   1510\u001b[0m     \u001b[38;5;28;01mreturn\u001b[39;00m run_task_async(\u001b[38;5;241m*\u001b[39m\u001b[38;5;241m*\u001b[39mkwargs)\n\u001b[1;32m   1511\u001b[0m \u001b[38;5;28;01melse\u001b[39;00m:\n\u001b[0;32m-> 1512\u001b[0m     \u001b[38;5;28;01mreturn\u001b[39;00m \u001b[43mrun_task_sync\u001b[49m\u001b[43m(\u001b[49m\u001b[38;5;241;43m*\u001b[39;49m\u001b[38;5;241;43m*\u001b[39;49m\u001b[43mkwargs\u001b[49m\u001b[43m)\u001b[49m\n",
      "File \u001b[0;32m~/current-projects/public-apis/amazon-mlops-dashboard/venv/lib/python3.11/site-packages/prefect/task_engine.py:1325\u001b[0m, in \u001b[0;36mrun_task_sync\u001b[0;34m(task, task_run_id, task_run, parameters, wait_for, return_type, dependencies, context)\u001b[0m\n\u001b[1;32m   1322\u001b[0m         \u001b[38;5;28;01mwith\u001b[39;00m engine\u001b[38;5;241m.\u001b[39mrun_context(), engine\u001b[38;5;241m.\u001b[39mtransaction_context() \u001b[38;5;28;01mas\u001b[39;00m txn:\n\u001b[1;32m   1323\u001b[0m             engine\u001b[38;5;241m.\u001b[39mcall_task_fn(txn)\n\u001b[0;32m-> 1325\u001b[0m \u001b[38;5;28;01mreturn\u001b[39;00m engine\u001b[38;5;241m.\u001b[39mstate \u001b[38;5;28;01mif\u001b[39;00m return_type \u001b[38;5;241m==\u001b[39m \u001b[38;5;124m\"\u001b[39m\u001b[38;5;124mstate\u001b[39m\u001b[38;5;124m\"\u001b[39m \u001b[38;5;28;01melse\u001b[39;00m \u001b[43mengine\u001b[49m\u001b[38;5;241;43m.\u001b[39;49m\u001b[43mresult\u001b[49m\u001b[43m(\u001b[49m\u001b[43m)\u001b[49m\n",
      "File \u001b[0;32m~/current-projects/public-apis/amazon-mlops-dashboard/venv/lib/python3.11/site-packages/prefect/task_engine.py:457\u001b[0m, in \u001b[0;36mSyncTaskRunEngine.result\u001b[0;34m(self, raise_on_failure)\u001b[0m\n\u001b[1;32m    454\u001b[0m \u001b[38;5;28;01mif\u001b[39;00m \u001b[38;5;28mself\u001b[39m\u001b[38;5;241m.\u001b[39m_raised \u001b[38;5;129;01mis\u001b[39;00m \u001b[38;5;129;01mnot\u001b[39;00m NotSet:\n\u001b[1;32m    455\u001b[0m     \u001b[38;5;66;03m# if the task raised an exception, raise it\u001b[39;00m\n\u001b[1;32m    456\u001b[0m     \u001b[38;5;28;01mif\u001b[39;00m raise_on_failure:\n\u001b[0;32m--> 457\u001b[0m         \u001b[38;5;28;01mraise\u001b[39;00m \u001b[38;5;28mself\u001b[39m\u001b[38;5;241m.\u001b[39m_raised\n\u001b[1;32m    459\u001b[0m     \u001b[38;5;66;03m# otherwise, return the exception\u001b[39;00m\n\u001b[1;32m    460\u001b[0m     \u001b[38;5;28;01mreturn\u001b[39;00m \u001b[38;5;28mself\u001b[39m\u001b[38;5;241m.\u001b[39m_raised\n",
      "File \u001b[0;32m~/current-projects/public-apis/amazon-mlops-dashboard/venv/lib/python3.11/site-packages/prefect/task_engine.py:763\u001b[0m, in \u001b[0;36mSyncTaskRunEngine.run_context\u001b[0;34m(self)\u001b[0m\n\u001b[1;32m    760\u001b[0m         \u001b[38;5;28;01mif\u001b[39;00m \u001b[38;5;28mself\u001b[39m\u001b[38;5;241m.\u001b[39mis_cancelled():\n\u001b[1;32m    761\u001b[0m             \u001b[38;5;28;01mraise\u001b[39;00m CancelledError(\u001b[38;5;124m\"\u001b[39m\u001b[38;5;124mTask run cancelled by the task runner\u001b[39m\u001b[38;5;124m\"\u001b[39m)\n\u001b[0;32m--> 763\u001b[0m         \u001b[38;5;28;01myield\u001b[39;00m \u001b[38;5;28mself\u001b[39m\n\u001b[1;32m    764\u001b[0m \u001b[38;5;28;01mexcept\u001b[39;00m \u001b[38;5;167;01mTimeoutError\u001b[39;00m \u001b[38;5;28;01mas\u001b[39;00m exc:\n\u001b[1;32m    765\u001b[0m     \u001b[38;5;28mself\u001b[39m\u001b[38;5;241m.\u001b[39mhandle_timeout(exc)\n",
      "File \u001b[0;32m~/current-projects/public-apis/amazon-mlops-dashboard/venv/lib/python3.11/site-packages/prefect/task_engine.py:1323\u001b[0m, in \u001b[0;36mrun_task_sync\u001b[0;34m(task, task_run_id, task_run, parameters, wait_for, return_type, dependencies, context)\u001b[0m\n\u001b[1;32m   1321\u001b[0m         run_coro_as_sync(engine\u001b[38;5;241m.\u001b[39mwait_until_ready())\n\u001b[1;32m   1322\u001b[0m         \u001b[38;5;28;01mwith\u001b[39;00m engine\u001b[38;5;241m.\u001b[39mrun_context(), engine\u001b[38;5;241m.\u001b[39mtransaction_context() \u001b[38;5;28;01mas\u001b[39;00m txn:\n\u001b[0;32m-> 1323\u001b[0m             \u001b[43mengine\u001b[49m\u001b[38;5;241;43m.\u001b[39;49m\u001b[43mcall_task_fn\u001b[49m\u001b[43m(\u001b[49m\u001b[43mtxn\u001b[49m\u001b[43m)\u001b[49m\n\u001b[1;32m   1325\u001b[0m \u001b[38;5;28;01mreturn\u001b[39;00m engine\u001b[38;5;241m.\u001b[39mstate \u001b[38;5;28;01mif\u001b[39;00m return_type \u001b[38;5;241m==\u001b[39m \u001b[38;5;124m\"\u001b[39m\u001b[38;5;124mstate\u001b[39m\u001b[38;5;124m\"\u001b[39m \u001b[38;5;28;01melse\u001b[39;00m engine\u001b[38;5;241m.\u001b[39mresult()\n",
      "File \u001b[0;32m~/current-projects/public-apis/amazon-mlops-dashboard/venv/lib/python3.11/site-packages/prefect/task_engine.py:786\u001b[0m, in \u001b[0;36mSyncTaskRunEngine.call_task_fn\u001b[0;34m(self, transaction)\u001b[0m\n\u001b[1;32m    784\u001b[0m             result \u001b[38;5;241m=\u001b[39m call_with_parameters(\u001b[38;5;28mself\u001b[39m\u001b[38;5;241m.\u001b[39mtask\u001b[38;5;241m.\u001b[39mfn, parameters)\n\u001b[1;32m    785\u001b[0m     \u001b[38;5;28;01melse\u001b[39;00m:\n\u001b[0;32m--> 786\u001b[0m         result \u001b[38;5;241m=\u001b[39m \u001b[43mcall_with_parameters\u001b[49m\u001b[43m(\u001b[49m\u001b[38;5;28;43mself\u001b[39;49m\u001b[38;5;241;43m.\u001b[39;49m\u001b[43mtask\u001b[49m\u001b[38;5;241;43m.\u001b[39;49m\u001b[43mfn\u001b[49m\u001b[43m,\u001b[49m\u001b[43m \u001b[49m\u001b[43mparameters\u001b[49m\u001b[43m)\u001b[49m\n\u001b[1;32m    787\u001b[0m \u001b[38;5;28mself\u001b[39m\u001b[38;5;241m.\u001b[39mhandle_success(result, transaction\u001b[38;5;241m=\u001b[39mtransaction)\n\u001b[1;32m    788\u001b[0m \u001b[38;5;28;01mreturn\u001b[39;00m result\n",
      "File \u001b[0;32m~/current-projects/public-apis/amazon-mlops-dashboard/venv/lib/python3.11/site-packages/prefect/utilities/callables.py:206\u001b[0m, in \u001b[0;36mcall_with_parameters\u001b[0;34m(fn, parameters)\u001b[0m\n\u001b[1;32m    198\u001b[0m \u001b[38;5;250m\u001b[39m\u001b[38;5;124;03m\"\"\"\u001b[39;00m\n\u001b[1;32m    199\u001b[0m \u001b[38;5;124;03mCall a function with parameters extracted with `get_call_parameters`\u001b[39;00m\n\u001b[1;32m    200\u001b[0m \n\u001b[0;32m   (...)\u001b[0m\n\u001b[1;32m    203\u001b[0m \u001b[38;5;124;03mthe args/kwargs using `parameters_to_positional_and_keyword` directly\u001b[39;00m\n\u001b[1;32m    204\u001b[0m \u001b[38;5;124;03m\"\"\"\u001b[39;00m\n\u001b[1;32m    205\u001b[0m args, kwargs \u001b[38;5;241m=\u001b[39m parameters_to_args_kwargs(fn, parameters)\n\u001b[0;32m--> 206\u001b[0m \u001b[38;5;28;01mreturn\u001b[39;00m \u001b[43mfn\u001b[49m\u001b[43m(\u001b[49m\u001b[38;5;241;43m*\u001b[39;49m\u001b[43margs\u001b[49m\u001b[43m,\u001b[49m\u001b[43m \u001b[49m\u001b[38;5;241;43m*\u001b[39;49m\u001b[38;5;241;43m*\u001b[39;49m\u001b[43mkwargs\u001b[49m\u001b[43m)\u001b[49m\n",
      "File \u001b[0;32m~/current-projects/public-apis/amazon-mlops-dashboard/notebooks/../src/process.py:220\u001b[0m, in \u001b[0;36mgaussian_noise\u001b[0;34m(df, target_column)\u001b[0m\n\u001b[1;32m    217\u001b[0m df[[target_column_numerical]] \u001b[38;5;241m=\u001b[39m df[[target_column_cleaned]]\u001b[38;5;241m.\u001b[39mreplace(target_column_vals) \n\u001b[1;32m    219\u001b[0m \u001b[38;5;66;03m# Generate Noise    \u001b[39;00m\n\u001b[0;32m--> 220\u001b[0m \u001b[43mdf\u001b[49m\u001b[43m[\u001b[49m\u001b[43mgaussian_noise\u001b[49m\u001b[43m]\u001b[49m \u001b[38;5;241m=\u001b[39m df[target_column_cleaned]\u001b[38;5;241m.\u001b[39mapply(gaussian_noise_map)\n\u001b[1;32m    222\u001b[0m \u001b[38;5;66;03m# Redefine the target column adding Gaussian Noise\u001b[39;00m\n\u001b[1;32m    223\u001b[0m df[target_column] \u001b[38;5;241m=\u001b[39m df[target_column_numerical] \u001b[38;5;241m+\u001b[39m df[gaussian_noise]\n",
      "File \u001b[0;32m~/current-projects/public-apis/amazon-mlops-dashboard/venv/lib/python3.11/site-packages/pandas/core/frame.py:4289\u001b[0m, in \u001b[0;36mDataFrame.__setitem__\u001b[0;34m(self, key, value)\u001b[0m\n\u001b[1;32m   4278\u001b[0m     \u001b[38;5;28;01mif\u001b[39;00m sys\u001b[38;5;241m.\u001b[39mgetrefcount(\u001b[38;5;28mself\u001b[39m) \u001b[38;5;241m<\u001b[39m\u001b[38;5;241m=\u001b[39m \u001b[38;5;241m3\u001b[39m \u001b[38;5;129;01mand\u001b[39;00m (\n\u001b[1;32m   4279\u001b[0m         warn_copy_on_write()\n\u001b[1;32m   4280\u001b[0m         \u001b[38;5;129;01mor\u001b[39;00m (\n\u001b[0;32m   (...)\u001b[0m\n\u001b[1;32m   4283\u001b[0m         )\n\u001b[1;32m   4284\u001b[0m     ):\n\u001b[1;32m   4285\u001b[0m         warnings\u001b[38;5;241m.\u001b[39mwarn(\n\u001b[1;32m   4286\u001b[0m             _chained_assignment_warning_msg, \u001b[38;5;167;01mFutureWarning\u001b[39;00m, stacklevel\u001b[38;5;241m=\u001b[39m\u001b[38;5;241m2\u001b[39m\n\u001b[1;32m   4287\u001b[0m         )\n\u001b[0;32m-> 4289\u001b[0m key \u001b[38;5;241m=\u001b[39m \u001b[43mcom\u001b[49m\u001b[38;5;241;43m.\u001b[39;49m\u001b[43mapply_if_callable\u001b[49m\u001b[43m(\u001b[49m\u001b[43mkey\u001b[49m\u001b[43m,\u001b[49m\u001b[43m \u001b[49m\u001b[38;5;28;43mself\u001b[39;49m\u001b[43m)\u001b[49m\n\u001b[1;32m   4291\u001b[0m \u001b[38;5;66;03m# see if we can slice the rows\u001b[39;00m\n\u001b[1;32m   4292\u001b[0m \u001b[38;5;28;01mif\u001b[39;00m \u001b[38;5;28misinstance\u001b[39m(key, \u001b[38;5;28mslice\u001b[39m):\n",
      "File \u001b[0;32m~/current-projects/public-apis/amazon-mlops-dashboard/venv/lib/python3.11/site-packages/pandas/core/common.py:384\u001b[0m, in \u001b[0;36mapply_if_callable\u001b[0;34m(maybe_callable, obj, **kwargs)\u001b[0m\n\u001b[1;32m    373\u001b[0m \u001b[38;5;250m\u001b[39m\u001b[38;5;124;03m\"\"\"\u001b[39;00m\n\u001b[1;32m    374\u001b[0m \u001b[38;5;124;03mEvaluate possibly callable input using obj and kwargs if it is callable,\u001b[39;00m\n\u001b[1;32m    375\u001b[0m \u001b[38;5;124;03motherwise return as it is.\u001b[39;00m\n\u001b[0;32m   (...)\u001b[0m\n\u001b[1;32m    381\u001b[0m \u001b[38;5;124;03m**kwargs\u001b[39;00m\n\u001b[1;32m    382\u001b[0m \u001b[38;5;124;03m\"\"\"\u001b[39;00m\n\u001b[1;32m    383\u001b[0m \u001b[38;5;28;01mif\u001b[39;00m \u001b[38;5;28mcallable\u001b[39m(maybe_callable):\n\u001b[0;32m--> 384\u001b[0m     \u001b[38;5;28;01mreturn\u001b[39;00m \u001b[43mmaybe_callable\u001b[49m\u001b[43m(\u001b[49m\u001b[43mobj\u001b[49m\u001b[43m,\u001b[49m\u001b[43m \u001b[49m\u001b[38;5;241;43m*\u001b[39;49m\u001b[38;5;241;43m*\u001b[39;49m\u001b[43mkwargs\u001b[49m\u001b[43m)\u001b[49m\n\u001b[1;32m    386\u001b[0m \u001b[38;5;28;01mreturn\u001b[39;00m maybe_callable\n",
      "File \u001b[0;32m~/current-projects/public-apis/amazon-mlops-dashboard/venv/lib/python3.11/site-packages/prefect/tasks.py:985\u001b[0m, in \u001b[0;36mTask.__call__\u001b[0;34m(self, return_state, wait_for, *args, **kwargs)\u001b[0m\n\u001b[1;32m    979\u001b[0m \u001b[38;5;28;01mfrom\u001b[39;00m \u001b[38;5;21;01mprefect\u001b[39;00m\u001b[38;5;21;01m.\u001b[39;00m\u001b[38;5;21;01mutilities\u001b[39;00m\u001b[38;5;21;01m.\u001b[39;00m\u001b[38;5;21;01mvisualization\u001b[39;00m \u001b[38;5;28;01mimport\u001b[39;00m (\n\u001b[1;32m    980\u001b[0m     get_task_viz_tracker,\n\u001b[1;32m    981\u001b[0m     track_viz_task,\n\u001b[1;32m    982\u001b[0m )\n\u001b[1;32m    984\u001b[0m \u001b[38;5;66;03m# Convert the call args/kwargs to a parameter dict\u001b[39;00m\n\u001b[0;32m--> 985\u001b[0m parameters \u001b[38;5;241m=\u001b[39m \u001b[43mget_call_parameters\u001b[49m\u001b[43m(\u001b[49m\u001b[38;5;28;43mself\u001b[39;49m\u001b[38;5;241;43m.\u001b[39;49m\u001b[43mfn\u001b[49m\u001b[43m,\u001b[49m\u001b[43m \u001b[49m\u001b[43margs\u001b[49m\u001b[43m,\u001b[49m\u001b[43m \u001b[49m\u001b[43mkwargs\u001b[49m\u001b[43m)\u001b[49m\n\u001b[1;32m    987\u001b[0m return_type \u001b[38;5;241m=\u001b[39m \u001b[38;5;124m\"\u001b[39m\u001b[38;5;124mstate\u001b[39m\u001b[38;5;124m\"\u001b[39m \u001b[38;5;28;01mif\u001b[39;00m return_state \u001b[38;5;28;01melse\u001b[39;00m \u001b[38;5;124m\"\u001b[39m\u001b[38;5;124mresult\u001b[39m\u001b[38;5;124m\"\u001b[39m\n\u001b[1;32m    989\u001b[0m task_run_tracker \u001b[38;5;241m=\u001b[39m get_task_viz_tracker()\n",
      "File \u001b[0;32m~/current-projects/public-apis/amazon-mlops-dashboard/venv/lib/python3.11/site-packages/prefect/utilities/callables.py:65\u001b[0m, in \u001b[0;36mget_call_parameters\u001b[0;34m(fn, call_args, call_kwargs, apply_defaults)\u001b[0m\n\u001b[1;32m     63\u001b[0m     bound_signature \u001b[38;5;241m=\u001b[39m inspect\u001b[38;5;241m.\u001b[39msignature(fn)\u001b[38;5;241m.\u001b[39mbind(\u001b[38;5;241m*\u001b[39mcall_args, \u001b[38;5;241m*\u001b[39m\u001b[38;5;241m*\u001b[39mcall_kwargs)\n\u001b[1;32m     64\u001b[0m \u001b[38;5;28;01mexcept\u001b[39;00m \u001b[38;5;167;01mTypeError\u001b[39;00m \u001b[38;5;28;01mas\u001b[39;00m exc:\n\u001b[0;32m---> 65\u001b[0m     \u001b[38;5;28;01mraise\u001b[39;00m ParameterBindError\u001b[38;5;241m.\u001b[39mfrom_bind_failure(fn, exc, call_args, call_kwargs)\n\u001b[1;32m     67\u001b[0m \u001b[38;5;28;01mif\u001b[39;00m apply_defaults:\n\u001b[1;32m     68\u001b[0m     bound_signature\u001b[38;5;241m.\u001b[39mapply_defaults()\n",
      "\u001b[0;31mParameterBindError\u001b[0m: Error binding parameters for function 'gaussian_noise': missing a required argument: 'target_column'.\nFunction 'gaussian_noise' has signature 'df: pandas.core.frame.DataFrame, target_column: str) -> pandas.core.frame.DataFrame' but received args: (    product_price  product_original_price  product_star_rating  \\\n0           44.52                   80.00                  4.6   \n1           42.50                   75.00                  4.7   \n2           38.50                   70.00                  4.5   \n3           30.69                   50.00                  4.5   \n4           60.00                   80.00                  4.6   \n..            ...                     ...                  ...   \n13          42.95                   65.00                  4.6   \n14          21.59                   26.99                  4.2   \n15          42.99                   69.95                  4.4   \n16          46.99                     NaN                  4.1   \n17          49.00                   75.00                  4.4   \n\n    product_num_ratings  product_minimum_offer_price  is_prime  \\\n0                   709                        44.52       1.0   \n1                  2028                        42.50       1.0   \n2                   502                        38.50       1.0   \n3                 40996                        30.69       1.0   \n4                   397                        60.00       1.0   \n..                  ...                          ...       ...   \n13                   38                        42.95       1.0   \n14                  151                        21.59       1.0   \n15                 8518                        42.99       1.0   \n16                  768                        46.99       1.0   \n17                 4750                        49.00       1.0   \n\n    climate_pledge_friendly  has_variations  coupon_discount  \\\n0                       0.0             1.0              0.0   \n1                       0.0             1.0              0.0   \n2                       0.0             1.0              0.0   \n3                       0.0             1.0              0.0   \n4                       0.0             1.0              0.0   \n..                      ...             ...              ...   \n13                      0.0             1.0              0.0   \n14                      0.0             1.0              0.0   \n15                      0.0             1.0              0.0   \n16                      0.0             1.0              0.0   \n17                      0.0             1.0              0.0   \n\n                 sales_volume       sales_volume_cleaned  \\\n0   400+ bought in past month  400+ bought in past month   \n1    50+ bought in past month   50+ bought in past month   \n2   100+ bought in past month  100+ bought in past month   \n3    50+ bought in past month   50+ bought in past month   \n4   100+ bought in past month  100+ bought in past month   \n..                        ...                        ...   \n13                     List:                           0   \n14            Typical price:                           0   \n15  100+ bought in past month  100+ bought in past month   \n16                       None                          0   \n17                     List:                           0   \n\n    sales_volume_numerical  \n0                      400  \n1                       50  \n2                      100  \n3                       50  \n4                      100  \n..                     ...  \n13                       0  \n14                       0  \n15                     100  \n16                       0  \n17                       0  \n\n[310 rows x 12 columns],) and kwargs: []."
     ]
    }
   ],
   "source": [
    "merged_df = gaussian_noise(df=merged_df.copy(), target_column=\"sales_volume\")"
   ]
  },
  {
   "cell_type": "code",
   "execution_count": null,
   "metadata": {},
   "outputs": [],
   "source": []
  },
  {
   "cell_type": "code",
   "execution_count": null,
   "metadata": {},
   "outputs": [],
   "source": []
  }
 ],
 "metadata": {
  "kernelspec": {
   "display_name": "venv",
   "language": "python",
   "name": "python3"
  },
  "language_info": {
   "codemirror_mode": {
    "name": "ipython",
    "version": 3
   },
   "file_extension": ".py",
   "mimetype": "text/x-python",
   "name": "python",
   "nbconvert_exporter": "python",
   "pygments_lexer": "ipython3",
   "version": "3.11.4"
  }
 },
 "nbformat": 4,
 "nbformat_minor": 2
}
