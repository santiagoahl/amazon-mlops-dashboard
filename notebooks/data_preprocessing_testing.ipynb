{
 "cells": [
  {
   "cell_type": "markdown",
   "metadata": {},
   "source": [
    "## Data Ingestion"
   ]
  },
  {
   "cell_type": "code",
   "execution_count": 1,
   "metadata": {},
   "outputs": [],
   "source": [
    "import os\n",
    "\n",
    "os.sys.path.append(\"../src\")"
   ]
  },
  {
   "cell_type": "code",
   "execution_count": 2,
   "metadata": {},
   "outputs": [],
   "source": [
    "import data_preprocessing as dp\n",
    "import data_ingestion as di\n",
    "import pandas as pd"
   ]
  },
  {
   "cell_type": "code",
   "execution_count": 3,
   "metadata": {},
   "outputs": [],
   "source": [
    "import json"
   ]
  },
  {
   "cell_type": "code",
   "execution_count": 5,
   "metadata": {},
   "outputs": [],
   "source": [
    "with open(\"../data/raw/api-calls/queries.json\", 'r') as f:\n",
    "    data = json.load(f)"
   ]
  },
  {
   "cell_type": "code",
   "execution_count": null,
   "metadata": {},
   "outputs": [],
   "source": [
    "data"
   ]
  },
  {
   "cell_type": "code",
   "execution_count": null,
   "metadata": {},
   "outputs": [],
   "source": [
    "di.main()"
   ]
  },
  {
   "cell_type": "code",
   "execution_count": 21,
   "metadata": {},
   "outputs": [],
   "source": [
    "with open(\"../data/raw/api-calls/us_product_list_test_all_pages.json\", \"r\") as f:\n",
    "    x = json.load(f)"
   ]
  },
  {
   "cell_type": "markdown",
   "metadata": {},
   "source": [
    "## Data Preprocessing"
   ]
  },
  {
   "cell_type": "code",
   "execution_count": 3,
   "metadata": {},
   "outputs": [],
   "source": [
    "dp.extract_json_df()"
   ]
  },
  {
   "cell_type": "code",
   "execution_count": 4,
   "metadata": {},
   "outputs": [],
   "source": [
    "df = pd.read_csv(\"../data/raw/csv/all_countries_tennis_data.csv\")"
   ]
  },
  {
   "cell_type": "code",
   "execution_count": 5,
   "metadata": {},
   "outputs": [
    {
     "data": {
      "text/html": [
       "<div>\n",
       "<style scoped>\n",
       "    .dataframe tbody tr th:only-of-type {\n",
       "        vertical-align: middle;\n",
       "    }\n",
       "\n",
       "    .dataframe tbody tr th {\n",
       "        vertical-align: top;\n",
       "    }\n",
       "\n",
       "    .dataframe thead th {\n",
       "        text-align: right;\n",
       "    }\n",
       "</style>\n",
       "<table border=\"1\" class=\"dataframe\">\n",
       "  <thead>\n",
       "    <tr style=\"text-align: right;\">\n",
       "      <th></th>\n",
       "      <th>asin</th>\n",
       "      <th>product_title</th>\n",
       "      <th>product_price</th>\n",
       "      <th>product_original_price</th>\n",
       "      <th>currency</th>\n",
       "      <th>product_star_rating</th>\n",
       "      <th>product_num_ratings</th>\n",
       "      <th>product_url</th>\n",
       "      <th>product_photo</th>\n",
       "      <th>product_num_offers</th>\n",
       "      <th>...</th>\n",
       "      <th>sales_volume</th>\n",
       "      <th>delivery</th>\n",
       "      <th>has_variations</th>\n",
       "      <th>country_name</th>\n",
       "      <th>book_format</th>\n",
       "      <th>unit_price</th>\n",
       "      <th>unit_count</th>\n",
       "      <th>product_badge</th>\n",
       "      <th>product_availability</th>\n",
       "      <th>coupon_text</th>\n",
       "    </tr>\n",
       "  </thead>\n",
       "  <tbody>\n",
       "    <tr>\n",
       "      <th>0</th>\n",
       "      <td>B0BX2BW8QQ</td>\n",
       "      <td>NADAL/DJOKOVIC : Duel à Roland-Garros</td>\n",
       "      <td>NaN</td>\n",
       "      <td>NaN</td>\n",
       "      <td>NaN</td>\n",
       "      <td>NaN</td>\n",
       "      <td>0</td>\n",
       "      <td>https://www.amazon.fr/dp/B0BX2BW8QQ</td>\n",
       "      <td>https://m.media-amazon.com/images/I/81Yzw7IuEl...</td>\n",
       "      <td>1</td>\n",
       "      <td>...</td>\n",
       "      <td>NaN</td>\n",
       "      <td>NaN</td>\n",
       "      <td>False</td>\n",
       "      <td>France</td>\n",
       "      <td>NaN</td>\n",
       "      <td>NaN</td>\n",
       "      <td>NaN</td>\n",
       "      <td>NaN</td>\n",
       "      <td>NaN</td>\n",
       "      <td>NaN</td>\n",
       "    </tr>\n",
       "    <tr>\n",
       "      <th>1</th>\n",
       "      <td>B0CYQJHTTK</td>\n",
       "      <td>Les douze derniers jours de Federer</td>\n",
       "      <td>NaN</td>\n",
       "      <td>NaN</td>\n",
       "      <td>NaN</td>\n",
       "      <td>NaN</td>\n",
       "      <td>0</td>\n",
       "      <td>https://www.amazon.fr/dp/B0CYQJHTTK</td>\n",
       "      <td>https://m.media-amazon.com/images/I/91vvc6lnq2...</td>\n",
       "      <td>1</td>\n",
       "      <td>...</td>\n",
       "      <td>NaN</td>\n",
       "      <td>NaN</td>\n",
       "      <td>False</td>\n",
       "      <td>France</td>\n",
       "      <td>NaN</td>\n",
       "      <td>NaN</td>\n",
       "      <td>NaN</td>\n",
       "      <td>NaN</td>\n",
       "      <td>NaN</td>\n",
       "      <td>NaN</td>\n",
       "    </tr>\n",
       "    <tr>\n",
       "      <th>2</th>\n",
       "      <td>B0CLVSNTVL</td>\n",
       "      <td>Venus &amp;amp; Serena - Ces icones que l&amp;#x27;Amé...</td>\n",
       "      <td>NaN</td>\n",
       "      <td>NaN</td>\n",
       "      <td>NaN</td>\n",
       "      <td>NaN</td>\n",
       "      <td>0</td>\n",
       "      <td>https://www.amazon.fr/dp/B0CLVSNTVL</td>\n",
       "      <td>https://m.media-amazon.com/images/I/7101KADKoD...</td>\n",
       "      <td>1</td>\n",
       "      <td>...</td>\n",
       "      <td>NaN</td>\n",
       "      <td>NaN</td>\n",
       "      <td>False</td>\n",
       "      <td>France</td>\n",
       "      <td>NaN</td>\n",
       "      <td>NaN</td>\n",
       "      <td>NaN</td>\n",
       "      <td>NaN</td>\n",
       "      <td>NaN</td>\n",
       "      <td>NaN</td>\n",
       "    </tr>\n",
       "    <tr>\n",
       "      <th>3</th>\n",
       "      <td>B08BHR6DF9</td>\n",
       "      <td>MOVEMATE Entraîneur de Tennis avec Balle de Te...</td>\n",
       "      <td>27,90 €</td>\n",
       "      <td>NaN</td>\n",
       "      <td>EUR</td>\n",
       "      <td>3.9</td>\n",
       "      <td>1523</td>\n",
       "      <td>https://www.amazon.fr/dp/B08BHR6DF9</td>\n",
       "      <td>https://m.media-amazon.com/images/I/71xvLudXeg...</td>\n",
       "      <td>1</td>\n",
       "      <td>...</td>\n",
       "      <td>Plus de 100 achetés au cours du mois dernier</td>\n",
       "      <td>Livraison GRATUITE lun. 27 janv. pour votre pr...</td>\n",
       "      <td>False</td>\n",
       "      <td>France</td>\n",
       "      <td>NaN</td>\n",
       "      <td>NaN</td>\n",
       "      <td>NaN</td>\n",
       "      <td>NaN</td>\n",
       "      <td>NaN</td>\n",
       "      <td>NaN</td>\n",
       "    </tr>\n",
       "    <tr>\n",
       "      <th>4</th>\n",
       "      <td>B081R7Q4MX</td>\n",
       "      <td>Jan : Examen au filet</td>\n",
       "      <td>NaN</td>\n",
       "      <td>NaN</td>\n",
       "      <td>NaN</td>\n",
       "      <td>NaN</td>\n",
       "      <td>0</td>\n",
       "      <td>https://www.amazon.fr/dp/B081R7Q4MX</td>\n",
       "      <td>https://m.media-amazon.com/images/I/61rIFiwI6W...</td>\n",
       "      <td>1</td>\n",
       "      <td>...</td>\n",
       "      <td>NaN</td>\n",
       "      <td>NaN</td>\n",
       "      <td>False</td>\n",
       "      <td>France</td>\n",
       "      <td>NaN</td>\n",
       "      <td>NaN</td>\n",
       "      <td>NaN</td>\n",
       "      <td>NaN</td>\n",
       "      <td>NaN</td>\n",
       "      <td>NaN</td>\n",
       "    </tr>\n",
       "  </tbody>\n",
       "</table>\n",
       "<p>5 rows × 25 columns</p>\n",
       "</div>"
      ],
      "text/plain": [
       "         asin                                      product_title  \\\n",
       "0  B0BX2BW8QQ              NADAL/DJOKOVIC : Duel à Roland-Garros   \n",
       "1  B0CYQJHTTK                Les douze derniers jours de Federer   \n",
       "2  B0CLVSNTVL  Venus &amp; Serena - Ces icones que l&#x27;Amé...   \n",
       "3  B08BHR6DF9  MOVEMATE Entraîneur de Tennis avec Balle de Te...   \n",
       "4  B081R7Q4MX                              Jan : Examen au filet   \n",
       "\n",
       "  product_price product_original_price currency  product_star_rating  \\\n",
       "0           NaN                    NaN      NaN                  NaN   \n",
       "1           NaN                    NaN      NaN                  NaN   \n",
       "2           NaN                    NaN      NaN                  NaN   \n",
       "3       27,90 €                    NaN      EUR                  3.9   \n",
       "4           NaN                    NaN      NaN                  NaN   \n",
       "\n",
       "   product_num_ratings                          product_url  \\\n",
       "0                    0  https://www.amazon.fr/dp/B0BX2BW8QQ   \n",
       "1                    0  https://www.amazon.fr/dp/B0CYQJHTTK   \n",
       "2                    0  https://www.amazon.fr/dp/B0CLVSNTVL   \n",
       "3                 1523  https://www.amazon.fr/dp/B08BHR6DF9   \n",
       "4                    0  https://www.amazon.fr/dp/B081R7Q4MX   \n",
       "\n",
       "                                       product_photo  product_num_offers  ...  \\\n",
       "0  https://m.media-amazon.com/images/I/81Yzw7IuEl...                   1  ...   \n",
       "1  https://m.media-amazon.com/images/I/91vvc6lnq2...                   1  ...   \n",
       "2  https://m.media-amazon.com/images/I/7101KADKoD...                   1  ...   \n",
       "3  https://m.media-amazon.com/images/I/71xvLudXeg...                   1  ...   \n",
       "4  https://m.media-amazon.com/images/I/61rIFiwI6W...                   1  ...   \n",
       "\n",
       "                                   sales_volume  \\\n",
       "0                                           NaN   \n",
       "1                                           NaN   \n",
       "2                                           NaN   \n",
       "3  Plus de 100 achetés au cours du mois dernier   \n",
       "4                                           NaN   \n",
       "\n",
       "                                            delivery  has_variations  \\\n",
       "0                                                NaN           False   \n",
       "1                                                NaN           False   \n",
       "2                                                NaN           False   \n",
       "3  Livraison GRATUITE lun. 27 janv. pour votre pr...           False   \n",
       "4                                                NaN           False   \n",
       "\n",
       "   country_name  book_format unit_price unit_count  product_badge  \\\n",
       "0        France          NaN        NaN        NaN            NaN   \n",
       "1        France          NaN        NaN        NaN            NaN   \n",
       "2        France          NaN        NaN        NaN            NaN   \n",
       "3        France          NaN        NaN        NaN            NaN   \n",
       "4        France          NaN        NaN        NaN            NaN   \n",
       "\n",
       "  product_availability coupon_text  \n",
       "0                  NaN         NaN  \n",
       "1                  NaN         NaN  \n",
       "2                  NaN         NaN  \n",
       "3                  NaN         NaN  \n",
       "4                  NaN         NaN  \n",
       "\n",
       "[5 rows x 25 columns]"
      ]
     },
     "execution_count": 5,
     "metadata": {},
     "output_type": "execute_result"
    }
   ],
   "source": [
    "df.head()"
   ]
  },
  {
   "cell_type": "code",
   "execution_count": 6,
   "metadata": {},
   "outputs": [],
   "source": [
    "dp.clean_data()"
   ]
  },
  {
   "cell_type": "code",
   "execution_count": 7,
   "metadata": {},
   "outputs": [],
   "source": [
    "a = pd.read_csv(\"/home/santi/current-projects/public-apis/amazon-mlops-dashboard/data/pre-processed/cleaned/tennis_data_cleaned.csv\")"
   ]
  },
  {
   "cell_type": "code",
   "execution_count": 8,
   "metadata": {},
   "outputs": [
    {
     "data": {
      "text/plain": [
       "array([nan, 'Plus de 100 achetés au cours du mois dernier',\n",
       "       'Plus de 300 achetés au cours du mois dernier',\n",
       "       'Plus de 200 achetés au cours du mois dernier',\n",
       "       'Plus de 700 achetés au cours du mois dernier',\n",
       "       'Plus de 50 achetés au cours du mois dernier',\n",
       "       'Plus de 400 achetés au cours du mois dernier',\n",
       "       'Plus de 600 achetés au cours du mois dernier',\n",
       "       'Plus de 1 k achetés au cours du mois dernier',\n",
       "       'Plus de 500 achetés au cours du mois dernier',\n",
       "       '500+ bought in past month', '100+ bought in past month',\n",
       "       '50+ bought in past month', '1K+ bought in past month',\n",
       "       '200+ bought in past month', '300+ bought in past month',\n",
       "       '400+ bought in past month', '600+ bought in past month',\n",
       "       '2K+ bought in past month', '4K+ bought in past month',\n",
       "       '900+ bought in past month', '700+ bought in past month',\n",
       "       '10K+ bought in past month', '6K+ bought in past month',\n",
       "       '3K+ bought in past month', '800+ bought in past month'],\n",
       "      dtype=object)"
      ]
     },
     "execution_count": 8,
     "metadata": {},
     "output_type": "execute_result"
    }
   ],
   "source": [
    "a.sales_volume.unique()"
   ]
  },
  {
   "cell_type": "code",
   "execution_count": 9,
   "metadata": {},
   "outputs": [],
   "source": [
    "dp.gaussian_noise(\"sales_volume\")"
   ]
  },
  {
   "cell_type": "code",
   "execution_count": 10,
   "metadata": {},
   "outputs": [],
   "source": [
    "w = pd.read_csv(\"../data/pre-processed/cleaned/tennis_data_processed.csv\")"
   ]
  },
  {
   "cell_type": "code",
   "execution_count": null,
   "metadata": {},
   "outputs": [],
   "source": []
  }
 ],
 "metadata": {
  "kernelspec": {
   "display_name": ".venv",
   "language": "python",
   "name": "python3"
  },
  "language_info": {
   "codemirror_mode": {
    "name": "ipython",
    "version": 3
   },
   "file_extension": ".py",
   "mimetype": "text/x-python",
   "name": "python",
   "nbconvert_exporter": "python",
   "pygments_lexer": "ipython3",
   "version": "3.11.11"
  }
 },
 "nbformat": 4,
 "nbformat_minor": 2
}
