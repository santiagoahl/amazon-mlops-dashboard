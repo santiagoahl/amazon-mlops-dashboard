{
 "cells": [
  {
   "cell_type": "code",
   "execution_count": 1,
   "metadata": {},
   "outputs": [],
   "source": [
    "import pandas as pd"
   ]
  },
  {
   "cell_type": "code",
   "execution_count": 2,
   "metadata": {},
   "outputs": [],
   "source": [
    "df = pd.read_csv(\"../data/processed/tennis_augmented.csv\")"
   ]
  },
  {
   "cell_type": "code",
   "execution_count": 3,
   "metadata": {},
   "outputs": [
    {
     "data": {
      "text/html": [
       "<div>\n",
       "<style scoped>\n",
       "    .dataframe tbody tr th:only-of-type {\n",
       "        vertical-align: middle;\n",
       "    }\n",
       "\n",
       "    .dataframe tbody tr th {\n",
       "        vertical-align: top;\n",
       "    }\n",
       "\n",
       "    .dataframe thead th {\n",
       "        text-align: right;\n",
       "    }\n",
       "</style>\n",
       "<table border=\"1\" class=\"dataframe\">\n",
       "  <thead>\n",
       "    <tr style=\"text-align: right;\">\n",
       "      <th></th>\n",
       "      <th>product_price</th>\n",
       "      <th>product_original_price</th>\n",
       "      <th>product_star_rating</th>\n",
       "      <th>product_num_ratings</th>\n",
       "      <th>product_minimum_offer_price</th>\n",
       "      <th>is_prime</th>\n",
       "      <th>climate_pledge_friendly</th>\n",
       "      <th>has_variations</th>\n",
       "      <th>coupon_discount</th>\n",
       "      <th>sales_volume</th>\n",
       "    </tr>\n",
       "  </thead>\n",
       "  <tbody>\n",
       "    <tr>\n",
       "      <th>0</th>\n",
       "      <td>36.661780</td>\n",
       "      <td>63.161923</td>\n",
       "      <td>4.078384</td>\n",
       "      <td>359.557636</td>\n",
       "      <td>59.911637</td>\n",
       "      <td>1.0</td>\n",
       "      <td>0.0</td>\n",
       "      <td>1.0</td>\n",
       "      <td>-0.099590</td>\n",
       "      <td>47</td>\n",
       "    </tr>\n",
       "    <tr>\n",
       "      <th>1</th>\n",
       "      <td>46.874729</td>\n",
       "      <td>67.600951</td>\n",
       "      <td>4.313783</td>\n",
       "      <td>-814.577238</td>\n",
       "      <td>41.928306</td>\n",
       "      <td>1.0</td>\n",
       "      <td>0.0</td>\n",
       "      <td>1.0</td>\n",
       "      <td>0.404374</td>\n",
       "      <td>33</td>\n",
       "    </tr>\n",
       "    <tr>\n",
       "      <th>2</th>\n",
       "      <td>24.425356</td>\n",
       "      <td>52.276780</td>\n",
       "      <td>4.546788</td>\n",
       "      <td>-953.988191</td>\n",
       "      <td>24.472614</td>\n",
       "      <td>1.0</td>\n",
       "      <td>0.0</td>\n",
       "      <td>1.0</td>\n",
       "      <td>0.077852</td>\n",
       "      <td>33</td>\n",
       "    </tr>\n",
       "    <tr>\n",
       "      <th>3</th>\n",
       "      <td>71.123465</td>\n",
       "      <td>79.246256</td>\n",
       "      <td>4.649976</td>\n",
       "      <td>3696.268226</td>\n",
       "      <td>44.480069</td>\n",
       "      <td>1.0</td>\n",
       "      <td>0.0</td>\n",
       "      <td>1.0</td>\n",
       "      <td>7.497777</td>\n",
       "      <td>153</td>\n",
       "    </tr>\n",
       "    <tr>\n",
       "      <th>4</th>\n",
       "      <td>45.094955</td>\n",
       "      <td>87.757177</td>\n",
       "      <td>3.900340</td>\n",
       "      <td>-760.120956</td>\n",
       "      <td>43.209550</td>\n",
       "      <td>1.0</td>\n",
       "      <td>0.0</td>\n",
       "      <td>1.0</td>\n",
       "      <td>0.387575</td>\n",
       "      <td>34</td>\n",
       "    </tr>\n",
       "  </tbody>\n",
       "</table>\n",
       "</div>"
      ],
      "text/plain": [
       "   product_price  product_original_price  product_star_rating  \\\n",
       "0      36.661780               63.161923             4.078384   \n",
       "1      46.874729               67.600951             4.313783   \n",
       "2      24.425356               52.276780             4.546788   \n",
       "3      71.123465               79.246256             4.649976   \n",
       "4      45.094955               87.757177             3.900340   \n",
       "\n",
       "   product_num_ratings  product_minimum_offer_price  is_prime  \\\n",
       "0           359.557636                    59.911637       1.0   \n",
       "1          -814.577238                    41.928306       1.0   \n",
       "2          -953.988191                    24.472614       1.0   \n",
       "3          3696.268226                    44.480069       1.0   \n",
       "4          -760.120956                    43.209550       1.0   \n",
       "\n",
       "   climate_pledge_friendly  has_variations  coupon_discount  sales_volume  \n",
       "0                      0.0             1.0        -0.099590            47  \n",
       "1                      0.0             1.0         0.404374            33  \n",
       "2                      0.0             1.0         0.077852            33  \n",
       "3                      0.0             1.0         7.497777           153  \n",
       "4                      0.0             1.0         0.387575            34  "
      ]
     },
     "execution_count": 3,
     "metadata": {},
     "output_type": "execute_result"
    }
   ],
   "source": [
    "df.head()"
   ]
  },
  {
   "cell_type": "code",
   "execution_count": 4,
   "metadata": {},
   "outputs": [],
   "source": [
    "df[\"country_id\"] = 1\n",
    "df[\"country_name\"] = \"United States\"\n",
    "df[\"datestr\"] = \"2024-10-06\""
   ]
  },
  {
   "cell_type": "code",
   "execution_count": 6,
   "metadata": {},
   "outputs": [],
   "source": [
    "df.to_csv(\"../data/historical/2024-10-06.csv\", index=False)"
   ]
  }
 ],
 "metadata": {
  "kernelspec": {
   "display_name": "base",
   "language": "python",
   "name": "python3"
  },
  "language_info": {
   "codemirror_mode": {
    "name": "ipython",
    "version": 3
   },
   "file_extension": ".py",
   "mimetype": "text/x-python",
   "name": "python",
   "nbconvert_exporter": "python",
   "pygments_lexer": "ipython3",
   "version": "3.7.6"
  }
 },
 "nbformat": 4,
 "nbformat_minor": 2
}
