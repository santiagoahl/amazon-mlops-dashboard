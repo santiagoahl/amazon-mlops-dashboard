{
 "cells": [
  {
   "cell_type": "code",
   "execution_count": 1,
   "metadata": {},
   "outputs": [],
   "source": [
    "import json\n",
    "import pandas as pd\n",
    "import prefect\n",
    "import os\n",
    "# even considering that prefect is already up to date into poetry.toml\n",
    "# I dont know why does this notebook not recognize this package"
   ]
  },
  {
   "cell_type": "code",
   "execution_count": 12,
   "metadata": {},
   "outputs": [],
   "source": [
    "# Paths\n",
    "\n",
    "path_raw_data = \"../raw-data/\"\n",
    "path_sample_request = os.path.join(path_raw_data, \"us_product_category_list.json\")\n",
    "output_path = '../data/raw/'"
   ]
  },
  {
   "cell_type": "code",
   "execution_count": 3,
   "metadata": {},
   "outputs": [],
   "source": [
    "try: \n",
    "    assert os.path.isfile(path_sample_request)\n",
    "except AssertionError:\n",
    "    print(\"The file {} does not exist\".format(path_sample_request))"
   ]
  },
  {
   "cell_type": "code",
   "execution_count": 4,
   "metadata": {},
   "outputs": [],
   "source": [
    "with open(path_sample_request, 'r') as file:\n",
    "    http_response = json.load(file)"
   ]
  },
  {
   "cell_type": "code",
   "execution_count": 8,
   "metadata": {},
   "outputs": [],
   "source": [
    "product_category_list_raw = http_response['response']\n",
    "product_category_list_raw = eval(product_category_list_raw)\n",
    "\n",
    "product_category_list = product_category_list_raw['data']"
   ]
  },
  {
   "cell_type": "code",
   "execution_count": 9,
   "metadata": {},
   "outputs": [
    {
     "data": {
      "text/plain": [
       "[{'name': 'All Departments', 'id': 'aps'},\n",
       " {'name': 'Alexa Skills', 'id': 'alexa-skills'},\n",
       " {'name': 'Amazon Devices', 'id': 'amazon-devices'},\n",
       " {'name': 'Amazon Explore', 'id': 'live-explorations'},\n",
       " {'name': 'Amazon Fresh', 'id': 'amazonfresh'},\n",
       " {'name': 'Amazon Pharmacy', 'id': 'amazon-pharmacy'},\n",
       " {'name': 'Amazon Warehouse', 'id': 'warehouse-deals'},\n",
       " {'name': 'Appliances', 'id': 'appliances'},\n",
       " {'name': 'Apps & Games', 'id': 'mobile-apps'},\n",
       " {'name': 'Arts, Crafts & Sewing', 'id': 'arts-crafts'},\n",
       " {'name': 'Audible Books & Originals', 'id': 'audible'},\n",
       " {'name': 'Automotive Parts & Accessories', 'id': 'automotive'},\n",
       " {'name': 'AWS Courses', 'id': 'courses'},\n",
       " {'name': 'Baby', 'id': 'baby-products'},\n",
       " {'name': 'Beauty & Personal Care', 'id': 'beauty'},\n",
       " {'name': 'Books', 'id': 'stripbooks'},\n",
       " {'name': 'CDs & Vinyl', 'id': 'popular'},\n",
       " {'name': 'Cell Phones & Accessories', 'id': 'mobile'},\n",
       " {'name': 'Clothing, Shoes & Jewelry', 'id': 'fashion'},\n",
       " {'name': '\\xa0\\xa0\\xa0Women', 'id': 'fashion-womens'},\n",
       " {'name': '\\xa0\\xa0\\xa0Men', 'id': 'fashion-mens'},\n",
       " {'name': '\\xa0\\xa0\\xa0Girls', 'id': 'fashion-girls'},\n",
       " {'name': '\\xa0\\xa0\\xa0Boys', 'id': 'fashion-boys'},\n",
       " {'name': '\\xa0\\xa0\\xa0Baby', 'id': 'fashion-baby'},\n",
       " {'name': 'Collectibles & Fine Art', 'id': 'collectibles'},\n",
       " {'name': 'Computers', 'id': 'computers'},\n",
       " {'name': 'Credit and Payment Cards', 'id': 'financial'},\n",
       " {'name': 'Digital Educational Resources', 'id': 'edu-alt-content'},\n",
       " {'name': 'Digital Music', 'id': 'digital-music'},\n",
       " {'name': 'Electronics', 'id': 'electronics'},\n",
       " {'name': 'Garden & Outdoor', 'id': 'lawngarden'},\n",
       " {'name': 'Gift Cards', 'id': 'gift-cards'},\n",
       " {'name': 'Grocery & Gourmet Food', 'id': 'grocery'},\n",
       " {'name': 'Handmade', 'id': 'handmade'},\n",
       " {'name': 'Health, Household & Baby Care', 'id': 'hpc'},\n",
       " {'name': 'Home & Business Services', 'id': 'local-services'},\n",
       " {'name': 'Home & Kitchen', 'id': 'garden'},\n",
       " {'name': 'Industrial & Scientific', 'id': 'industrial'},\n",
       " {'name': 'Just for Prime', 'id': 'prime-exclusive'},\n",
       " {'name': 'Kindle Store', 'id': 'digital-text'},\n",
       " {'name': 'Luggage & Travel Gear', 'id': 'fashion-luggage'},\n",
       " {'name': 'Luxury Stores', 'id': 'luxury'},\n",
       " {'name': 'Magazine Subscriptions', 'id': 'magazines'},\n",
       " {'name': 'Movies & TV', 'id': 'movies-tv'},\n",
       " {'name': 'Musical Instruments', 'id': 'mi'},\n",
       " {'name': 'Office Products', 'id': 'office-products'},\n",
       " {'name': 'Pet Supplies', 'id': 'pets'},\n",
       " {'name': 'Premium Beauty', 'id': 'luxury-beauty'},\n",
       " {'name': 'Prime Video', 'id': 'instant-video'},\n",
       " {'name': 'Smart Home', 'id': 'smart-home'},\n",
       " {'name': 'Software', 'id': 'software'},\n",
       " {'name': 'Sports & Outdoors', 'id': 'sporting'},\n",
       " {'name': 'Subscribe & Save', 'id': 'specialty-aps-sns'},\n",
       " {'name': 'Subscription Boxes', 'id': 'subscribe-with-amazon'},\n",
       " {'name': 'Tools & Home Improvement', 'id': 'tools'},\n",
       " {'name': 'Toys & Games', 'id': 'toys-and-games'},\n",
       " {'name': 'Under $10', 'id': 'under-ten-dollars'},\n",
       " {'name': 'Video Games', 'id': 'videogames'},\n",
       " {'name': 'Whole Foods Market', 'id': 'wholefoods'}]"
      ]
     },
     "execution_count": 9,
     "metadata": {},
     "output_type": "execute_result"
    }
   ],
   "source": [
    "product_category_list"
   ]
  },
  {
   "cell_type": "code",
   "execution_count": 11,
   "metadata": {},
   "outputs": [],
   "source": [
    "df_categories = pd.DataFrame(product_category_list)"
   ]
  },
  {
   "cell_type": "code",
   "execution_count": 13,
   "metadata": {},
   "outputs": [],
   "source": [
    "df_categories.to_csv(\n",
    "    os.path.join(output_path, 'product_categories_us.csv')\n",
    ")"
   ]
  },
  {
   "cell_type": "code",
   "execution_count": null,
   "metadata": {},
   "outputs": [],
   "source": []
  },
  {
   "cell_type": "code",
   "execution_count": null,
   "metadata": {},
   "outputs": [],
   "source": []
  },
  {
   "cell_type": "code",
   "execution_count": null,
   "metadata": {},
   "outputs": [],
   "source": []
  },
  {
   "cell_type": "code",
   "execution_count": null,
   "metadata": {},
   "outputs": [],
   "source": []
  },
  {
   "cell_type": "code",
   "execution_count": null,
   "metadata": {},
   "outputs": [],
   "source": []
  },
  {
   "cell_type": "code",
   "execution_count": null,
   "metadata": {},
   "outputs": [],
   "source": []
  },
  {
   "cell_type": "code",
   "execution_count": null,
   "metadata": {},
   "outputs": [],
   "source": []
  },
  {
   "cell_type": "code",
   "execution_count": null,
   "metadata": {},
   "outputs": [],
   "source": []
  },
  {
   "cell_type": "code",
   "execution_count": null,
   "metadata": {},
   "outputs": [],
   "source": []
  },
  {
   "cell_type": "code",
   "execution_count": null,
   "metadata": {},
   "outputs": [],
   "source": []
  },
  {
   "cell_type": "code",
   "execution_count": null,
   "metadata": {},
   "outputs": [],
   "source": []
  },
  {
   "cell_type": "code",
   "execution_count": null,
   "metadata": {},
   "outputs": [],
   "source": []
  },
  {
   "cell_type": "code",
   "execution_count": null,
   "metadata": {},
   "outputs": [],
   "source": []
  },
  {
   "cell_type": "code",
   "execution_count": null,
   "metadata": {},
   "outputs": [],
   "source": []
  },
  {
   "cell_type": "code",
   "execution_count": null,
   "metadata": {},
   "outputs": [],
   "source": []
  }
 ],
 "metadata": {
  "kernelspec": {
   "display_name": "venv",
   "language": "python",
   "name": "python3"
  },
  "language_info": {
   "codemirror_mode": {
    "name": "ipython",
    "version": 3
   },
   "file_extension": ".py",
   "mimetype": "text/x-python",
   "name": "python",
   "nbconvert_exporter": "python",
   "pygments_lexer": "ipython3",
   "version": "3.11.4"
  }
 },
 "nbformat": 4,
 "nbformat_minor": 2
}
